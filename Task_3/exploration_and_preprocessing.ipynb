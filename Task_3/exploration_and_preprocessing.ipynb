{
 "cells": [
  {
   "cell_type": "code",
   "execution_count": 1,
   "id": "6c712484",
   "metadata": {},
   "outputs": [],
   "source": [
    "import pandas as pd\n",
    "import clean_tweets_dataframe"
   ]
  },
  {
   "cell_type": "code",
   "execution_count": 2,
   "id": "c8d03990",
   "metadata": {},
   "outputs": [],
   "source": [
    "# Function: takes a csv file path and reads it into a dataframe\n",
    "def read_final_data(csv_path):\n",
    "    try:\n",
    "        df = pd.read_csv(csv_path)\n",
    "        print(\"File is successfully read as csv\")\n",
    "        return df\n",
    "    except FileNotFoundError:\n",
    "        print(\"File Not Found!\")"
   ]
  },
  {
   "cell_type": "code",
   "execution_count": 3,
   "id": "2defbceb",
   "metadata": {},
   "outputs": [
    {
     "name": "stdout",
     "output_type": "stream",
     "text": [
      "File is successfully read as csv\n"
     ]
    }
   ],
   "source": [
    "# Reading the cleaned and final data \"clean_tweets\"\n",
    "df = read_final_data('cleaned_tweets.csv')"
   ]
  },
  {
   "cell_type": "code",
   "execution_count": 4,
   "id": "642b33b1",
   "metadata": {},
   "outputs": [
    {
     "name": "stdout",
     "output_type": "stream",
     "text": [
      "<class 'pandas.core.frame.DataFrame'>\n",
      "RangeIndex: 21997 entries, 0 to 21996\n",
      "Data columns (total 16 columns):\n",
      " #   Column              Non-Null Count  Dtype  \n",
      "---  ------              --------------  -----  \n",
      " 0   created_at          21997 non-null  object \n",
      " 1   source              21997 non-null  object \n",
      " 2   original_text       21997 non-null  object \n",
      " 3   polarity            21997 non-null  float64\n",
      " 4   subjectivity        21997 non-null  float64\n",
      " 5   lang                21997 non-null  object \n",
      " 6   favorite_count      21997 non-null  int64  \n",
      " 7   retweet_count       17257 non-null  float64\n",
      " 8   original_author     21997 non-null  object \n",
      " 9   followers_count     21997 non-null  int64  \n",
      " 10  friends_count       21997 non-null  int64  \n",
      " 11  possibly_sensitive  0 non-null      float64\n",
      " 12  hashtags            19138 non-null  object \n",
      " 13  user_mentions       18695 non-null  object \n",
      " 14  place               12106 non-null  object \n",
      " 15  friends_count       21997 non-null  float64\n",
      "dtypes: float64(5), int64(3), object(8)\n",
      "memory usage: 2.7+ MB\n"
     ]
    }
   ],
   "source": [
    "# View overall insights about the columns of the data\n",
    "df.info()"
   ]
  },
  {
   "cell_type": "code",
   "execution_count": 5,
   "id": "88a83c6a",
   "metadata": {},
   "outputs": [
    {
     "data": {
      "text/html": [
       "<div>\n",
       "<style scoped>\n",
       "    .dataframe tbody tr th:only-of-type {\n",
       "        vertical-align: middle;\n",
       "    }\n",
       "\n",
       "    .dataframe tbody tr th {\n",
       "        vertical-align: top;\n",
       "    }\n",
       "\n",
       "    .dataframe thead th {\n",
       "        text-align: right;\n",
       "    }\n",
       "</style>\n",
       "<table border=\"1\" class=\"dataframe\">\n",
       "  <thead>\n",
       "    <tr style=\"text-align: right;\">\n",
       "      <th></th>\n",
       "      <th>created_at</th>\n",
       "      <th>source</th>\n",
       "      <th>original_text</th>\n",
       "      <th>polarity</th>\n",
       "      <th>subjectivity</th>\n",
       "      <th>lang</th>\n",
       "      <th>favorite_count</th>\n",
       "      <th>retweet_count</th>\n",
       "      <th>original_author</th>\n",
       "      <th>followers_count</th>\n",
       "      <th>friends_count</th>\n",
       "      <th>possibly_sensitive</th>\n",
       "      <th>hashtags</th>\n",
       "      <th>user_mentions</th>\n",
       "      <th>place</th>\n",
       "      <th>friends_count</th>\n",
       "    </tr>\n",
       "  </thead>\n",
       "  <tbody>\n",
       "    <tr>\n",
       "      <th>0</th>\n",
       "      <td>2022-08-07 22:31:20+00:00</td>\n",
       "      <td>&lt;a href=\"http://twitter.com/download/android\" ...</td>\n",
       "      <td>RT @i_ameztoy: Extra random image (I):\\n\\nLets...</td>\n",
       "      <td>-1.250000e-01</td>\n",
       "      <td>0.190625</td>\n",
       "      <td>en</td>\n",
       "      <td>4</td>\n",
       "      <td>2.0</td>\n",
       "      <td>i_ameztoy</td>\n",
       "      <td>20497</td>\n",
       "      <td>2621</td>\n",
       "      <td>NaN</td>\n",
       "      <td>City</td>\n",
       "      <td>i_ameztoy</td>\n",
       "      <td>NaN</td>\n",
       "      <td>-1.250000e-01</td>\n",
       "    </tr>\n",
       "    <tr>\n",
       "      <th>1</th>\n",
       "      <td>2022-08-07 22:31:16+00:00</td>\n",
       "      <td>&lt;a href=\"http://twitter.com/download/android\" ...</td>\n",
       "      <td>RT @IndoPac_Info: #China's media explains the ...</td>\n",
       "      <td>-1.000000e-01</td>\n",
       "      <td>0.100000</td>\n",
       "      <td>en</td>\n",
       "      <td>691</td>\n",
       "      <td>201.0</td>\n",
       "      <td>ZIisq</td>\n",
       "      <td>65</td>\n",
       "      <td>272</td>\n",
       "      <td>NaN</td>\n",
       "      <td>China Taiwan</td>\n",
       "      <td>IndoPac_Info</td>\n",
       "      <td>NaN</td>\n",
       "      <td>-1.000000e-01</td>\n",
       "    </tr>\n",
       "    <tr>\n",
       "      <th>2</th>\n",
       "      <td>2022-08-07 22:31:07+00:00</td>\n",
       "      <td>&lt;a href=\"http://twitter.com/download/android\" ...</td>\n",
       "      <td>China even cut off communication, they don't a...</td>\n",
       "      <td>0.000000e+00</td>\n",
       "      <td>0.000000</td>\n",
       "      <td>en</td>\n",
       "      <td>0</td>\n",
       "      <td>NaN</td>\n",
       "      <td>Fin21Free</td>\n",
       "      <td>85</td>\n",
       "      <td>392</td>\n",
       "      <td>NaN</td>\n",
       "      <td>XiJinping</td>\n",
       "      <td>ZelenskyyUa</td>\n",
       "      <td>Netherlands</td>\n",
       "      <td>0.000000e+00</td>\n",
       "    </tr>\n",
       "    <tr>\n",
       "      <th>3</th>\n",
       "      <td>2022-08-07 22:31:06+00:00</td>\n",
       "      <td>&lt;a href=\"http://twitter.com/download/android\" ...</td>\n",
       "      <td>Putin to #XiJinping : I told you my friend, Ta...</td>\n",
       "      <td>1.000000e-01</td>\n",
       "      <td>0.350000</td>\n",
       "      <td>en</td>\n",
       "      <td>0</td>\n",
       "      <td>NaN</td>\n",
       "      <td>Fin21Free</td>\n",
       "      <td>85</td>\n",
       "      <td>392</td>\n",
       "      <td>NaN</td>\n",
       "      <td>XiJinping</td>\n",
       "      <td>NaN</td>\n",
       "      <td>Netherlands</td>\n",
       "      <td>1.000000e-01</td>\n",
       "    </tr>\n",
       "    <tr>\n",
       "      <th>4</th>\n",
       "      <td>2022-08-07 22:31:04+00:00</td>\n",
       "      <td>&lt;a href=\"http://twitter.com/download/iphone\" r...</td>\n",
       "      <td>RT @ChinaUncensored: I’m sorry, I thought Taiw...</td>\n",
       "      <td>-6.938894e-18</td>\n",
       "      <td>0.556250</td>\n",
       "      <td>en</td>\n",
       "      <td>1521</td>\n",
       "      <td>381.0</td>\n",
       "      <td>VizziniDolores</td>\n",
       "      <td>910</td>\n",
       "      <td>2608</td>\n",
       "      <td>NaN</td>\n",
       "      <td>NaN</td>\n",
       "      <td>ChinaUncensored</td>\n",
       "      <td>Ayent, Schweiz</td>\n",
       "      <td>-6.938894e-18</td>\n",
       "    </tr>\n",
       "    <tr>\n",
       "      <th>5</th>\n",
       "      <td>2022-08-07 22:31:02+00:00</td>\n",
       "      <td>&lt;a href=\"http://twitter.com/download/android\" ...</td>\n",
       "      <td>RT @benedictrogers: We must not let this happe...</td>\n",
       "      <td>2.000000e-01</td>\n",
       "      <td>0.500000</td>\n",
       "      <td>en</td>\n",
       "      <td>116</td>\n",
       "      <td>36.0</td>\n",
       "      <td>GraceCh15554845</td>\n",
       "      <td>207</td>\n",
       "      <td>54</td>\n",
       "      <td>NaN</td>\n",
       "      <td>Taiwan</td>\n",
       "      <td>benedictrogers</td>\n",
       "      <td>Melbourne, Victoria</td>\n",
       "      <td>2.000000e-01</td>\n",
       "    </tr>\n",
       "    <tr>\n",
       "      <th>6</th>\n",
       "      <td>2022-08-07 22:30:59+00:00</td>\n",
       "      <td>&lt;a href=\"http://twitter.com/download/android\" ...</td>\n",
       "      <td>RT @TGTM_Official: What kind of country can co...</td>\n",
       "      <td>1.583333e-01</td>\n",
       "      <td>0.800000</td>\n",
       "      <td>en</td>\n",
       "      <td>1106</td>\n",
       "      <td>411.0</td>\n",
       "      <td>Philipkuma1</td>\n",
       "      <td>12</td>\n",
       "      <td>264</td>\n",
       "      <td>NaN</td>\n",
       "      <td>Taiwan TsaiIngwen</td>\n",
       "      <td>TGTM_Official</td>\n",
       "      <td>NaN</td>\n",
       "      <td>1.583333e-01</td>\n",
       "    </tr>\n",
       "    <tr>\n",
       "      <th>7</th>\n",
       "      <td>2022-08-07 22:30:59+00:00</td>\n",
       "      <td>&lt;a href=\"http://twitter.com/download/android\" ...</td>\n",
       "      <td>RT @ChinaInfo777: #PinkFloyd singer Roger Wate...</td>\n",
       "      <td>0.000000e+00</td>\n",
       "      <td>0.000000</td>\n",
       "      <td>en</td>\n",
       "      <td>10</td>\n",
       "      <td>5.0</td>\n",
       "      <td>nhohn2011</td>\n",
       "      <td>870</td>\n",
       "      <td>508</td>\n",
       "      <td>NaN</td>\n",
       "      <td>PinkFloyd Taiwan China</td>\n",
       "      <td>ChinaInfo777</td>\n",
       "      <td>Florida, USA</td>\n",
       "      <td>0.000000e+00</td>\n",
       "    </tr>\n",
       "    <tr>\n",
       "      <th>8</th>\n",
       "      <td>2022-08-07 22:30:50+00:00</td>\n",
       "      <td>&lt;a href=\"http://twitter.com/download/android\" ...</td>\n",
       "      <td>RT @AmbQinGang: China's SC&amp;amp;FM Wang Yi elab...</td>\n",
       "      <td>0.000000e+00</td>\n",
       "      <td>0.000000</td>\n",
       "      <td>en</td>\n",
       "      <td>1221</td>\n",
       "      <td>239.0</td>\n",
       "      <td>ClaudioColomaRI</td>\n",
       "      <td>127</td>\n",
       "      <td>263</td>\n",
       "      <td>NaN</td>\n",
       "      <td>Taiwan</td>\n",
       "      <td>AmbQinGang</td>\n",
       "      <td>El mundo periférico</td>\n",
       "      <td>0.000000e+00</td>\n",
       "    </tr>\n",
       "    <tr>\n",
       "      <th>9</th>\n",
       "      <td>2022-08-07 22:30:45+00:00</td>\n",
       "      <td>&lt;a href=\"https://mobile.twitter.com\" rel=\"nofo...</td>\n",
       "      <td>RT @CGMeifangZhang: Chinese ambassador to the ...</td>\n",
       "      <td>2.000000e-01</td>\n",
       "      <td>0.375000</td>\n",
       "      <td>en</td>\n",
       "      <td>49</td>\n",
       "      <td>25.0</td>\n",
       "      <td>jmarzola1</td>\n",
       "      <td>213</td>\n",
       "      <td>877</td>\n",
       "      <td>NaN</td>\n",
       "      <td>USA Pelosi Taiwan China</td>\n",
       "      <td>CGMeifangZhang</td>\n",
       "      <td>NaN</td>\n",
       "      <td>2.000000e-01</td>\n",
       "    </tr>\n",
       "  </tbody>\n",
       "</table>\n",
       "</div>"
      ],
      "text/plain": [
       "                  created_at  \\\n",
       "0  2022-08-07 22:31:20+00:00   \n",
       "1  2022-08-07 22:31:16+00:00   \n",
       "2  2022-08-07 22:31:07+00:00   \n",
       "3  2022-08-07 22:31:06+00:00   \n",
       "4  2022-08-07 22:31:04+00:00   \n",
       "5  2022-08-07 22:31:02+00:00   \n",
       "6  2022-08-07 22:30:59+00:00   \n",
       "7  2022-08-07 22:30:59+00:00   \n",
       "8  2022-08-07 22:30:50+00:00   \n",
       "9  2022-08-07 22:30:45+00:00   \n",
       "\n",
       "                                              source  \\\n",
       "0  <a href=\"http://twitter.com/download/android\" ...   \n",
       "1  <a href=\"http://twitter.com/download/android\" ...   \n",
       "2  <a href=\"http://twitter.com/download/android\" ...   \n",
       "3  <a href=\"http://twitter.com/download/android\" ...   \n",
       "4  <a href=\"http://twitter.com/download/iphone\" r...   \n",
       "5  <a href=\"http://twitter.com/download/android\" ...   \n",
       "6  <a href=\"http://twitter.com/download/android\" ...   \n",
       "7  <a href=\"http://twitter.com/download/android\" ...   \n",
       "8  <a href=\"http://twitter.com/download/android\" ...   \n",
       "9  <a href=\"https://mobile.twitter.com\" rel=\"nofo...   \n",
       "\n",
       "                                       original_text      polarity  \\\n",
       "0  RT @i_ameztoy: Extra random image (I):\\n\\nLets... -1.250000e-01   \n",
       "1  RT @IndoPac_Info: #China's media explains the ... -1.000000e-01   \n",
       "2  China even cut off communication, they don't a...  0.000000e+00   \n",
       "3  Putin to #XiJinping : I told you my friend, Ta...  1.000000e-01   \n",
       "4  RT @ChinaUncensored: I’m sorry, I thought Taiw... -6.938894e-18   \n",
       "5  RT @benedictrogers: We must not let this happe...  2.000000e-01   \n",
       "6  RT @TGTM_Official: What kind of country can co...  1.583333e-01   \n",
       "7  RT @ChinaInfo777: #PinkFloyd singer Roger Wate...  0.000000e+00   \n",
       "8  RT @AmbQinGang: China's SC&amp;FM Wang Yi elab...  0.000000e+00   \n",
       "9  RT @CGMeifangZhang: Chinese ambassador to the ...  2.000000e-01   \n",
       "\n",
       "   subjectivity lang  favorite_count  retweet_count  original_author  \\\n",
       "0      0.190625   en               4            2.0        i_ameztoy   \n",
       "1      0.100000   en             691          201.0            ZIisq   \n",
       "2      0.000000   en               0            NaN        Fin21Free   \n",
       "3      0.350000   en               0            NaN        Fin21Free   \n",
       "4      0.556250   en            1521          381.0   VizziniDolores   \n",
       "5      0.500000   en             116           36.0  GraceCh15554845   \n",
       "6      0.800000   en            1106          411.0      Philipkuma1   \n",
       "7      0.000000   en              10            5.0        nhohn2011   \n",
       "8      0.000000   en            1221          239.0  ClaudioColomaRI   \n",
       "9      0.375000   en              49           25.0        jmarzola1   \n",
       "\n",
       "   followers_count  friends_count  possibly_sensitive  \\\n",
       "0            20497           2621                 NaN   \n",
       "1               65            272                 NaN   \n",
       "2               85            392                 NaN   \n",
       "3               85            392                 NaN   \n",
       "4              910           2608                 NaN   \n",
       "5              207             54                 NaN   \n",
       "6               12            264                 NaN   \n",
       "7              870            508                 NaN   \n",
       "8              127            263                 NaN   \n",
       "9              213            877                 NaN   \n",
       "\n",
       "                  hashtags    user_mentions                place  \\\n",
       "0                     City        i_ameztoy                  NaN   \n",
       "1             China Taiwan     IndoPac_Info                  NaN   \n",
       "2                XiJinping      ZelenskyyUa          Netherlands   \n",
       "3                XiJinping              NaN          Netherlands   \n",
       "4                      NaN  ChinaUncensored       Ayent, Schweiz   \n",
       "5                   Taiwan   benedictrogers  Melbourne, Victoria   \n",
       "6        Taiwan TsaiIngwen    TGTM_Official                  NaN   \n",
       "7   PinkFloyd Taiwan China     ChinaInfo777         Florida, USA   \n",
       "8                   Taiwan       AmbQinGang  El mundo periférico   \n",
       "9  USA Pelosi Taiwan China   CGMeifangZhang                  NaN   \n",
       "\n",
       "   friends_count   \n",
       "0   -1.250000e-01  \n",
       "1   -1.000000e-01  \n",
       "2    0.000000e+00  \n",
       "3    1.000000e-01  \n",
       "4   -6.938894e-18  \n",
       "5    2.000000e-01  \n",
       "6    1.583333e-01  \n",
       "7    0.000000e+00  \n",
       "8    0.000000e+00  \n",
       "9    2.000000e-01  "
      ]
     },
     "execution_count": 5,
     "metadata": {},
     "output_type": "execute_result"
    }
   ],
   "source": [
    "# Expose(view) the first 10 lines of the data\n",
    "df.head(10)"
   ]
  },
  {
   "cell_type": "code",
   "execution_count": 6,
   "id": "c5ec8de6",
   "metadata": {},
   "outputs": [
    {
     "data": {
      "text/plain": [
       "<bound method IndexOpsMixin.value_counts of 0        20497\n",
       "1           65\n",
       "2           85\n",
       "3           85\n",
       "4          910\n",
       "         ...  \n",
       "21992       62\n",
       "21993       94\n",
       "21994       88\n",
       "21995      537\n",
       "21996       62\n",
       "Name: followers_count, Length: 21997, dtype: int64>"
      ]
     },
     "execution_count": 6,
     "metadata": {},
     "output_type": "execute_result"
    }
   ],
   "source": [
    "# Inspecting some columns of the data randomly\n",
    "df['followers_count']\n",
    "df['followers_count'].value_counts"
   ]
  },
  {
   "cell_type": "code",
   "execution_count": 7,
   "id": "6a8ebd4b",
   "metadata": {},
   "outputs": [
    {
     "name": "stdout",
     "output_type": "stream",
     "text": [
      "Total null values in oringal_text column: 0\n",
      "Total null values in polarity cloumn: 0\n"
     ]
    }
   ],
   "source": [
    "# Check if there are any null values and print the sum\n",
    "total_null_inorginal_text = df['original_text'].isnull().sum()\n",
    "total_null_inpolarity = df['polarity'].isnull().sum()\n",
    "\n",
    "print(f'Total null values in oringal_text column: {total_null_inorginal_text}')\n",
    "print(f'Total null values in polarity cloumn: {total_null_inpolarity}')"
   ]
  },
  {
   "cell_type": "code",
   "execution_count": 8,
   "id": "28d76d72",
   "metadata": {},
   "outputs": [
    {
     "data": {
      "text/plain": [
       "en    21997\n",
       "Name: lang, dtype: int64"
      ]
     },
     "execution_count": 8,
     "metadata": {},
     "output_type": "execute_result"
    }
   ],
   "source": [
    "# Count the number of english language tweets\n",
    "df['lang'].value_counts()"
   ]
  },
  {
   "cell_type": "code",
   "execution_count": 9,
   "id": "a49f817a",
   "metadata": {},
   "outputs": [],
   "source": [
    "# Create cleanedTweet dataframe\n",
    "cleanedTweet = pd.DataFrame(columns = ['clean_text', 'polarity'])\n",
    "\n",
    "cleanedTweet['clean_text'] = df['original_text']\n",
    "cleanedTweet['polarity'] = df['polarity']\n",
    "cleanedTweet.dropna(inplace = True)"
   ]
  },
  {
   "cell_type": "code",
   "execution_count": 10,
   "id": "93648146",
   "metadata": {},
   "outputs": [
    {
     "data": {
      "text/plain": [
       "clean_text    0\n",
       "polarity      0\n",
       "dtype: int64"
      ]
     },
     "execution_count": 10,
     "metadata": {},
     "output_type": "execute_result"
    }
   ],
   "source": [
    "#Check for null values in the new dataframe\n",
    "cleanedTweet.isnull().sum()"
   ]
  },
  {
   "cell_type": "code",
   "execution_count": 11,
   "id": "e71095ba",
   "metadata": {},
   "outputs": [],
   "source": [
    "import re"
   ]
  },
  {
   "cell_type": "code",
   "execution_count": 12,
   "id": "048992f4",
   "metadata": {},
   "outputs": [],
   "source": [
    "# Removal of unwanted characters from the tweet like @,#,links, mentions and RTs\n",
    "def tweetcleaner(text):\n",
    "    text = re.sub(r'@[A-Za-z0-9]+', '', text) #Remove mentions\n",
    "    text = re.sub(r'#', '', text) #Removing the '#' symbol\n",
    "    text = re.sub(r'RT[\\S]+', '', text) #Removing the RT\n",
    "    text = re.sub(r'https?:\\/\\/\\S+', '', text) #Removing the hyper links\n",
    "    text = re.sub(r'[^\\w\\s]', '', text) #Removing punctuations\n",
    "    return text"
   ]
  },
  {
   "cell_type": "code",
   "execution_count": 13,
   "id": "4007581d",
   "metadata": {},
   "outputs": [
    {
     "data": {
      "text/html": [
       "<div>\n",
       "<style scoped>\n",
       "    .dataframe tbody tr th:only-of-type {\n",
       "        vertical-align: middle;\n",
       "    }\n",
       "\n",
       "    .dataframe tbody tr th {\n",
       "        vertical-align: top;\n",
       "    }\n",
       "\n",
       "    .dataframe thead th {\n",
       "        text-align: right;\n",
       "    }\n",
       "</style>\n",
       "<table border=\"1\" class=\"dataframe\">\n",
       "  <thead>\n",
       "    <tr style=\"text-align: right;\">\n",
       "      <th></th>\n",
       "      <th>clean_text</th>\n",
       "      <th>polarity</th>\n",
       "    </tr>\n",
       "  </thead>\n",
       "  <tbody>\n",
       "    <tr>\n",
       "      <th>0</th>\n",
       "      <td>RT _ameztoy Extra random image I\\n\\nLets focus...</td>\n",
       "      <td>-1.250000e-01</td>\n",
       "    </tr>\n",
       "    <tr>\n",
       "      <th>1</th>\n",
       "      <td>RT _Info Chinas media explains the military re...</td>\n",
       "      <td>-1.000000e-01</td>\n",
       "    </tr>\n",
       "    <tr>\n",
       "      <th>2</th>\n",
       "      <td>China even cut off communication they dont anw...</td>\n",
       "      <td>0.000000e+00</td>\n",
       "    </tr>\n",
       "    <tr>\n",
       "      <th>3</th>\n",
       "      <td>Putin to XiJinping  I told you my friend Taiwa...</td>\n",
       "      <td>1.000000e-01</td>\n",
       "    </tr>\n",
       "    <tr>\n",
       "      <th>4</th>\n",
       "      <td>RT  Im sorry I thought Taiwan was an independe...</td>\n",
       "      <td>-6.938894e-18</td>\n",
       "    </tr>\n",
       "    <tr>\n",
       "      <th>...</th>\n",
       "      <td>...</td>\n",
       "      <td>...</td>\n",
       "    </tr>\n",
       "    <tr>\n",
       "      <th>21992</th>\n",
       "      <td>RT _Info A good infographic of Chinas missile ...</td>\n",
       "      <td>7.000000e-01</td>\n",
       "    </tr>\n",
       "    <tr>\n",
       "      <th>21993</th>\n",
       "      <td>RT _Info A good infographic of Chinas missile ...</td>\n",
       "      <td>7.000000e-01</td>\n",
       "    </tr>\n",
       "    <tr>\n",
       "      <th>21994</th>\n",
       "      <td>Thanks Pelosi smart move</td>\n",
       "      <td>2.071429e-01</td>\n",
       "    </tr>\n",
       "    <tr>\n",
       "      <th>21995</th>\n",
       "      <td>RT _Info Taiwan peoples Desire for Unification...</td>\n",
       "      <td>5.000000e-02</td>\n",
       "    </tr>\n",
       "    <tr>\n",
       "      <th>21996</th>\n",
       "      <td>RT _Info Taiwan peoples Desire for Unification...</td>\n",
       "      <td>5.000000e-02</td>\n",
       "    </tr>\n",
       "  </tbody>\n",
       "</table>\n",
       "<p>21997 rows × 2 columns</p>\n",
       "</div>"
      ],
      "text/plain": [
       "                                              clean_text      polarity\n",
       "0      RT _ameztoy Extra random image I\\n\\nLets focus... -1.250000e-01\n",
       "1      RT _Info Chinas media explains the military re... -1.000000e-01\n",
       "2      China even cut off communication they dont anw...  0.000000e+00\n",
       "3      Putin to XiJinping  I told you my friend Taiwa...  1.000000e-01\n",
       "4      RT  Im sorry I thought Taiwan was an independe... -6.938894e-18\n",
       "...                                                  ...           ...\n",
       "21992  RT _Info A good infographic of Chinas missile ...  7.000000e-01\n",
       "21993  RT _Info A good infographic of Chinas missile ...  7.000000e-01\n",
       "21994                           Thanks Pelosi smart move  2.071429e-01\n",
       "21995  RT _Info Taiwan peoples Desire for Unification...  5.000000e-02\n",
       "21996  RT _Info Taiwan peoples Desire for Unification...  5.000000e-02\n",
       "\n",
       "[21997 rows x 2 columns]"
      ]
     },
     "execution_count": 13,
     "metadata": {},
     "output_type": "execute_result"
    }
   ],
   "source": [
    "#Apply \"tweetcleaner\" over the data\n",
    "cleanedTweet['clean_text'] = cleanedTweet['clean_text'].apply(tweetcleaner)\n",
    "cleanedTweet"
   ]
  },
  {
   "cell_type": "code",
   "execution_count": 14,
   "id": "3b1a94b8",
   "metadata": {},
   "outputs": [],
   "source": [
    "# Function: converts polarity into a positive, negative or neutral string\n",
    "def text_category(p: float) -> str:\n",
    "    if p > 0:\n",
    "        return \"positive\"\n",
    "    elif p == 0:\n",
    "        return \"negative\"\n",
    "    else:\n",
    "        return \"neutral\""
   ]
  },
  {
   "cell_type": "code",
   "execution_count": 15,
   "id": "2b797e24",
   "metadata": {},
   "outputs": [],
   "source": [
    "# Apply the text_category function on cleanedTweet to score the polarity of the tweet\n",
    "cleanedTweet['score'] = cleanedTweet['polarity'].apply(text_category)"
   ]
  },
  {
   "cell_type": "code",
   "execution_count": 16,
   "id": "bafc592d",
   "metadata": {},
   "outputs": [
    {
     "data": {
      "text/plain": [
       "0         neutral\n",
       "1         neutral\n",
       "2        negative\n",
       "3        positive\n",
       "4         neutral\n",
       "           ...   \n",
       "21992    positive\n",
       "21993    positive\n",
       "21994    positive\n",
       "21995    positive\n",
       "21996    positive\n",
       "Name: score, Length: 21997, dtype: object"
      ]
     },
     "execution_count": 16,
     "metadata": {},
     "output_type": "execute_result"
    }
   ],
   "source": [
    "# Observe the effect of applyin the text_ctegory function\n",
    "cleanedTweet['score']"
   ]
  },
  {
   "cell_type": "code",
   "execution_count": 17,
   "id": "29d5bc67",
   "metadata": {},
   "outputs": [
    {
     "data": {
      "text/plain": [
       "negative    8982\n",
       "positive    8182\n",
       "neutral     4833\n",
       "Name: score, dtype: int64"
      ]
     },
     "execution_count": 17,
     "metadata": {},
     "output_type": "execute_result"
    }
   ],
   "source": [
    "#Count the values present in the data\n",
    "cleanedTweet['score'].value_counts()"
   ]
  },
  {
   "cell_type": "code",
   "execution_count": 18,
   "id": "a29b04ec",
   "metadata": {},
   "outputs": [
    {
     "data": {
      "text/plain": [
       "<AxesSubplot:title={'center':'score'}>"
      ]
     },
     "execution_count": 18,
     "metadata": {},
     "output_type": "execute_result"
    },
    {
     "data": {
      "image/png": "[encoded data removed]",
      "text/plain": [
       "<Figure size 576x576 with 1 Axes>"
      ]
     },
     "metadata": {
      "needs_background": "light"
     },
     "output_type": "display_data"
    }
   ],
   "source": [
    "#Use bar chart to observe the frequencies of occerence of each of the three scores in the data\n",
    "score_count =  cleanedTweet['score'].value_counts()\n",
    "score_count.plot(kind=\"bar\", y=\"score\", title=\"score\", figsize=[8, 8])"
   ]
  },
  {
   "cell_type": "code",
   "execution_count": 19,
   "id": "6afadee1",
   "metadata": {},
   "outputs": [
    {
     "data": {
      "text/plain": [
       "<AxesSubplot:title={'center':'score'}, ylabel='score'>"
      ]
     },
     "execution_count": 19,
     "metadata": {},
     "output_type": "execute_result"
    },
    {
     "data": {
      "image/png": "[encoded data removed]",
      "text/plain": [
       "<Figure size 576x576 with 1 Axes>"
      ]
     },
     "metadata": {},
     "output_type": "display_data"
    }
   ],
   "source": [
    "#Using pie chart to visualize the contribution of each of the scores in the data to the whole data\n",
    "score_count.plot(kind=\"pie\", y=\"score\", title=\"score\", x=\"\", figsize=[8, 8])"
   ]
  },
  {
   "cell_type": "code",
   "execution_count": 21,
   "id": "57bb4c03",
   "metadata": {},
   "outputs": [
    {
     "ename": "NameError",
     "evalue": "name 'WordCloud' is not defined",
     "output_type": "error",
     "traceback": [
      "\u001b[1;31m---------------------------------------------------------------------------\u001b[0m",
      "\u001b[1;31mNameError\u001b[0m                                 Traceback (most recent call last)",
      "Input \u001b[1;32mIn [21]\u001b[0m, in \u001b[0;36m<cell line: 3>\u001b[1;34m()\u001b[0m\n\u001b[0;32m      1\u001b[0m \u001b[38;5;66;03m#Plot The Word cloud\u001b[39;00m\n\u001b[0;32m      2\u001b[0m allWords \u001b[38;5;241m=\u001b[39m \u001b[38;5;124m'\u001b[39m\u001b[38;5;124m \u001b[39m\u001b[38;5;124m'\u001b[39m\u001b[38;5;241m.\u001b[39mjoin( [twts \u001b[38;5;28;01mfor\u001b[39;00m twts \u001b[38;5;129;01min\u001b[39;00m df[\u001b[38;5;124m'\u001b[39m\u001b[38;5;124moriginal_text\u001b[39m\u001b[38;5;124m'\u001b[39m]] )\n\u001b[1;32m----> 3\u001b[0m wordCloudd \u001b[38;5;241m=\u001b[39m \u001b[43mWordCloud\u001b[49m(width \u001b[38;5;241m=\u001b[39m \u001b[38;5;241m500\u001b[39m, height \u001b[38;5;241m=\u001b[39m \u001b[38;5;241m400\u001b[39m, random_state \u001b[38;5;241m=\u001b[39m \u001b[38;5;241m27\u001b[39m, max_font_size \u001b[38;5;241m=\u001b[39m \u001b[38;5;241m119\u001b[39m)\u001b[38;5;241m.\u001b[39mgenreate(allWords)\n\u001b[0;32m      5\u001b[0m plt\u001b[38;5;241m.\u001b[39mimshow(wordCloud, interpolation \u001b[38;5;241m=\u001b[39m \u001b[38;5;124m\"\u001b[39m\u001b[38;5;124mbilinear\u001b[39m\u001b[38;5;124m\"\u001b[39m)\n\u001b[0;32m      6\u001b[0m plt\u001b[38;5;241m.\u001b[39maxis(\u001b[38;5;124m'\u001b[39m\u001b[38;5;124moff\u001b[39m\u001b[38;5;124m'\u001b[39m)\n",
      "\u001b[1;31mNameError\u001b[0m: name 'WordCloud' is not defined"
     ]
    }
   ],
   "source": [
    "#Plot The Word cloud\n",
    "allWords = ' '.join( [twts for twts in df['original_text']] )\n",
    "wordCloudd = WordCloud(width = 500, height = 400, random_state = 27, max_font_size = 119).genreate(allWords)\n",
    "\n",
    "plt.imshow(wordCloud, interpolation = \"bilinear\")\n",
    "plt.axis('off')\n",
    "plt.show()"
   ]
  },
  {
   "cell_type": "code",
   "execution_count": null,
   "id": "eef6a5ce",
   "metadata": {},
   "outputs": [],
   "source": []
  }
 ],
 "metadata": {
  "kernelspec": {
   "display_name": "Python 3 (ipykernel)",
   "language": "python",
   "name": "python3"
  },
  "language_info": {
   "codemirror_mode": {
    "name": "ipython",
    "version": 3
   },
   "file_extension": ".py",
   "mimetype": "text/x-python",
   "name": "python",
   "nbconvert_exporter": "python",
   "pygments_lexer": "ipython3",
   "version": "3.9.12"
  }
 },
 "nbformat": 4,
 "nbformat_minor": 5
}
