{
 "cells": [
  {
   "cell_type": "code",
   "execution_count": 1,
   "id": "5c01168a",
   "metadata": {},
   "outputs": [],
   "source": [
    "import pandas as pd\n",
    "import clean_tweets_dataframe"
   ]
  },
  {
   "cell_type": "code",
   "execution_count": 2,
   "id": "85c68cea",
   "metadata": {},
   "outputs": [],
   "source": [
    "# Function: takes a csv file path and reads it into a dataframe\n",
    "def read_final_data(csv_path):\n",
    "    try:\n",
    "        df = pd.read_csv(csv_path)\n",
    "        print(\"File is successfully read as csv\")\n",
    "        return df\n",
    "    except FileNotFoundError:\n",
    "        print(\"File Not Found!\")"
   ]
  },
  {
   "cell_type": "code",
   "execution_count": 4,
   "id": "9963c603",
   "metadata": {},
   "outputs": [
    {
     "name": "stdout",
     "output_type": "stream",
     "text": [
      "File is successfully read as csv\n"
     ]
    }
   ],
   "source": [
    "# Reading the cleaned and final data \"clean_tweets\"\n",
    "df = read_final_data('cleaned_tweets.csv')"
   ]
  },
  {
   "cell_type": "code",
   "execution_count": 5,
   "id": "f05c4101",
   "metadata": {},
   "outputs": [
    {
     "name": "stdout",
     "output_type": "stream",
     "text": [
      "<class 'pandas.core.frame.DataFrame'>\n",
      "RangeIndex: 21997 entries, 0 to 21996\n",
      "Data columns (total 16 columns):\n",
      " #   Column              Non-Null Count  Dtype  \n",
      "---  ------              --------------  -----  \n",
      " 0   created_at          21997 non-null  object \n",
      " 1   source              21997 non-null  object \n",
      " 2   original_text       21997 non-null  object \n",
      " 3   polarity            21997 non-null  float64\n",
      " 4   subjectivity        21997 non-null  float64\n",
      " 5   lang                21997 non-null  object \n",
      " 6   favorite_count      21997 non-null  int64  \n",
      " 7   retweet_count       17257 non-null  float64\n",
      " 8   original_author     21997 non-null  object \n",
      " 9   followers_count     21997 non-null  int64  \n",
      " 10  friends_count       21997 non-null  int64  \n",
      " 11  possibly_sensitive  0 non-null      float64\n",
      " 12  hashtags            19138 non-null  object \n",
      " 13  user_mentions       18695 non-null  object \n",
      " 14  place               12106 non-null  object \n",
      " 15  friends_count       21997 non-null  float64\n",
      "dtypes: float64(5), int64(3), object(8)\n",
      "memory usage: 2.7+ MB\n"
     ]
    }
   ],
   "source": [
    "# View overall insights about the columns of the data\n",
    "df.info()"
   ]
  },
  {
   "cell_type": "code",
   "execution_count": null,
   "id": "a70878c0",
   "metadata": {},
   "outputs": [],
   "source": []
  }
 ],
 "metadata": {
  "kernelspec": {
   "display_name": "Python 3 (ipykernel)",
   "language": "python",
   "name": "python3"
  },
  "language_info": {
   "codemirror_mode": {
    "name": "ipython",
    "version": 3
   },
   "file_extension": ".py",
   "mimetype": "text/x-python",
   "name": "python",
   "nbconvert_exporter": "python",
   "pygments_lexer": "ipython3",
   "version": "3.9.12"
  }
 },
 "nbformat": 4,
 "nbformat_minor": 5
}
