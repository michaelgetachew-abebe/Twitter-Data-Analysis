{
 "cells": [
  {
   "cell_type": "code",
   "execution_count": 140,
   "id": "6c712484",
   "metadata": {},
   "outputs": [],
   "source": [
    "%matplotlib inline\n",
    "import pandas as pd\n",
    "import clean_tweets_dataframe\n",
    "import matplotlib.pyplot as plt\n",
    "from wordcloud import WordCloud\n",
    "import numpy as np\n",
    "from collections import Counter\n",
    "from nltk.tokenize import TweetTokenizer\n",
    "from nltk.corpus import stopwords\n",
    "import seaborn as sns\n",
    "import warnings\n",
    "warnings.filterwarnings('ignore')\n",
    "import gensim\n",
    "from gensim.models import CoherenceModel\n",
    "from gensim import corpora\n",
    "from pprint import pprint\n",
    "import string\n",
    "import os\n",
    "import re"
   ]
  },
  {
   "cell_type": "code",
   "execution_count": 141,
   "id": "c8d03990",
   "metadata": {},
   "outputs": [],
   "source": [
    "# Function: takes a csv file path and reads it into a dataframe\n",
    "def read_final_data(csv_path):\n",
    "    try:\n",
    "        df = pd.read_csv(csv_path)\n",
    "        print(\"File is successfully read as csv\")\n",
    "        return df\n",
    "    except FileNotFoundError:\n",
    "        print(\"File Not Found!\")"
   ]
  },
  {
   "cell_type": "code",
   "execution_count": 142,
   "id": "2defbceb",
   "metadata": {},
   "outputs": [
    {
     "name": "stdout",
     "output_type": "stream",
     "text": [
      "File is successfully read as csv\n"
     ]
    }
   ],
   "source": [
    "# Reading the cleaned and final data \"clean_tweets\"\n",
    "df = read_final_data('cleaned_tweets.csv')"
   ]
  },
  {
   "cell_type": "code",
   "execution_count": 143,
   "id": "642b33b1",
   "metadata": {},
   "outputs": [
    {
     "name": "stdout",
     "output_type": "stream",
     "text": [
      "<class 'pandas.core.frame.DataFrame'>\n",
      "RangeIndex: 21997 entries, 0 to 21996\n",
      "Data columns (total 16 columns):\n",
      " #   Column              Non-Null Count  Dtype  \n",
      "---  ------              --------------  -----  \n",
      " 0   created_at          21997 non-null  object \n",
      " 1   source              21997 non-null  object \n",
      " 2   original_text       21997 non-null  object \n",
      " 3   polarity            21997 non-null  float64\n",
      " 4   subjectivity        21997 non-null  float64\n",
      " 5   lang                21997 non-null  object \n",
      " 6   favorite_count      21997 non-null  int64  \n",
      " 7   retweet_count       17257 non-null  float64\n",
      " 8   original_author     21997 non-null  object \n",
      " 9   followers_count     21997 non-null  int64  \n",
      " 10  friends_count       21997 non-null  int64  \n",
      " 11  possibly_sensitive  0 non-null      float64\n",
      " 12  hashtags            19138 non-null  object \n",
      " 13  user_mentions       18695 non-null  object \n",
      " 14  place               12106 non-null  object \n",
      " 15  friends_count       21997 non-null  float64\n",
      "dtypes: float64(5), int64(3), object(8)\n",
      "memory usage: 2.7+ MB\n"
     ]
    }
   ],
   "source": [
    "# View overall insights about the columns of the data\n",
    "df.info()"
   ]
  },
  {
   "cell_type": "code",
   "execution_count": 144,
   "id": "88a83c6a",
   "metadata": {
    "scrolled": true
   },
   "outputs": [
    {
     "data": {
      "text/html": [
       "<div>\n",
       "<style scoped>\n",
       "    .dataframe tbody tr th:only-of-type {\n",
       "        vertical-align: middle;\n",
       "    }\n",
       "\n",
       "    .dataframe tbody tr th {\n",
       "        vertical-align: top;\n",
       "    }\n",
       "\n",
       "    .dataframe thead th {\n",
       "        text-align: right;\n",
       "    }\n",
       "</style>\n",
       "<table border=\"1\" class=\"dataframe\">\n",
       "  <thead>\n",
       "    <tr style=\"text-align: right;\">\n",
       "      <th></th>\n",
       "      <th>created_at</th>\n",
       "      <th>source</th>\n",
       "      <th>original_text</th>\n",
       "      <th>polarity</th>\n",
       "      <th>subjectivity</th>\n",
       "      <th>lang</th>\n",
       "      <th>favorite_count</th>\n",
       "      <th>retweet_count</th>\n",
       "      <th>original_author</th>\n",
       "      <th>followers_count</th>\n",
       "      <th>friends_count</th>\n",
       "      <th>possibly_sensitive</th>\n",
       "      <th>hashtags</th>\n",
       "      <th>user_mentions</th>\n",
       "      <th>place</th>\n",
       "      <th>friends_count</th>\n",
       "    </tr>\n",
       "  </thead>\n",
       "  <tbody>\n",
       "    <tr>\n",
       "      <th>0</th>\n",
       "      <td>2022-08-07 22:31:20+00:00</td>\n",
       "      <td>&lt;a href=\"http://twitter.com/download/android\" ...</td>\n",
       "      <td>RT @i_ameztoy: Extra random image (I):\\n\\nLets...</td>\n",
       "      <td>-1.250000e-01</td>\n",
       "      <td>0.190625</td>\n",
       "      <td>en</td>\n",
       "      <td>4</td>\n",
       "      <td>2.0</td>\n",
       "      <td>i_ameztoy</td>\n",
       "      <td>20497</td>\n",
       "      <td>2621</td>\n",
       "      <td>NaN</td>\n",
       "      <td>City</td>\n",
       "      <td>i_ameztoy</td>\n",
       "      <td>NaN</td>\n",
       "      <td>-1.250000e-01</td>\n",
       "    </tr>\n",
       "    <tr>\n",
       "      <th>1</th>\n",
       "      <td>2022-08-07 22:31:16+00:00</td>\n",
       "      <td>&lt;a href=\"http://twitter.com/download/android\" ...</td>\n",
       "      <td>RT @IndoPac_Info: #China's media explains the ...</td>\n",
       "      <td>-1.000000e-01</td>\n",
       "      <td>0.100000</td>\n",
       "      <td>en</td>\n",
       "      <td>691</td>\n",
       "      <td>201.0</td>\n",
       "      <td>ZIisq</td>\n",
       "      <td>65</td>\n",
       "      <td>272</td>\n",
       "      <td>NaN</td>\n",
       "      <td>China Taiwan</td>\n",
       "      <td>IndoPac_Info</td>\n",
       "      <td>NaN</td>\n",
       "      <td>-1.000000e-01</td>\n",
       "    </tr>\n",
       "    <tr>\n",
       "      <th>2</th>\n",
       "      <td>2022-08-07 22:31:07+00:00</td>\n",
       "      <td>&lt;a href=\"http://twitter.com/download/android\" ...</td>\n",
       "      <td>China even cut off communication, they don't a...</td>\n",
       "      <td>0.000000e+00</td>\n",
       "      <td>0.000000</td>\n",
       "      <td>en</td>\n",
       "      <td>0</td>\n",
       "      <td>NaN</td>\n",
       "      <td>Fin21Free</td>\n",
       "      <td>85</td>\n",
       "      <td>392</td>\n",
       "      <td>NaN</td>\n",
       "      <td>XiJinping</td>\n",
       "      <td>ZelenskyyUa</td>\n",
       "      <td>Netherlands</td>\n",
       "      <td>0.000000e+00</td>\n",
       "    </tr>\n",
       "    <tr>\n",
       "      <th>3</th>\n",
       "      <td>2022-08-07 22:31:06+00:00</td>\n",
       "      <td>&lt;a href=\"http://twitter.com/download/android\" ...</td>\n",
       "      <td>Putin to #XiJinping : I told you my friend, Ta...</td>\n",
       "      <td>1.000000e-01</td>\n",
       "      <td>0.350000</td>\n",
       "      <td>en</td>\n",
       "      <td>0</td>\n",
       "      <td>NaN</td>\n",
       "      <td>Fin21Free</td>\n",
       "      <td>85</td>\n",
       "      <td>392</td>\n",
       "      <td>NaN</td>\n",
       "      <td>XiJinping</td>\n",
       "      <td>NaN</td>\n",
       "      <td>Netherlands</td>\n",
       "      <td>1.000000e-01</td>\n",
       "    </tr>\n",
       "    <tr>\n",
       "      <th>4</th>\n",
       "      <td>2022-08-07 22:31:04+00:00</td>\n",
       "      <td>&lt;a href=\"http://twitter.com/download/iphone\" r...</td>\n",
       "      <td>RT @ChinaUncensored: I’m sorry, I thought Taiw...</td>\n",
       "      <td>-6.938894e-18</td>\n",
       "      <td>0.556250</td>\n",
       "      <td>en</td>\n",
       "      <td>1521</td>\n",
       "      <td>381.0</td>\n",
       "      <td>VizziniDolores</td>\n",
       "      <td>910</td>\n",
       "      <td>2608</td>\n",
       "      <td>NaN</td>\n",
       "      <td>NaN</td>\n",
       "      <td>ChinaUncensored</td>\n",
       "      <td>Ayent, Schweiz</td>\n",
       "      <td>-6.938894e-18</td>\n",
       "    </tr>\n",
       "    <tr>\n",
       "      <th>5</th>\n",
       "      <td>2022-08-07 22:31:02+00:00</td>\n",
       "      <td>&lt;a href=\"http://twitter.com/download/android\" ...</td>\n",
       "      <td>RT @benedictrogers: We must not let this happe...</td>\n",
       "      <td>2.000000e-01</td>\n",
       "      <td>0.500000</td>\n",
       "      <td>en</td>\n",
       "      <td>116</td>\n",
       "      <td>36.0</td>\n",
       "      <td>GraceCh15554845</td>\n",
       "      <td>207</td>\n",
       "      <td>54</td>\n",
       "      <td>NaN</td>\n",
       "      <td>Taiwan</td>\n",
       "      <td>benedictrogers</td>\n",
       "      <td>Melbourne, Victoria</td>\n",
       "      <td>2.000000e-01</td>\n",
       "    </tr>\n",
       "    <tr>\n",
       "      <th>6</th>\n",
       "      <td>2022-08-07 22:30:59+00:00</td>\n",
       "      <td>&lt;a href=\"http://twitter.com/download/android\" ...</td>\n",
       "      <td>RT @TGTM_Official: What kind of country can co...</td>\n",
       "      <td>1.583333e-01</td>\n",
       "      <td>0.800000</td>\n",
       "      <td>en</td>\n",
       "      <td>1106</td>\n",
       "      <td>411.0</td>\n",
       "      <td>Philipkuma1</td>\n",
       "      <td>12</td>\n",
       "      <td>264</td>\n",
       "      <td>NaN</td>\n",
       "      <td>Taiwan TsaiIngwen</td>\n",
       "      <td>TGTM_Official</td>\n",
       "      <td>NaN</td>\n",
       "      <td>1.583333e-01</td>\n",
       "    </tr>\n",
       "    <tr>\n",
       "      <th>7</th>\n",
       "      <td>2022-08-07 22:30:59+00:00</td>\n",
       "      <td>&lt;a href=\"http://twitter.com/download/android\" ...</td>\n",
       "      <td>RT @ChinaInfo777: #PinkFloyd singer Roger Wate...</td>\n",
       "      <td>0.000000e+00</td>\n",
       "      <td>0.000000</td>\n",
       "      <td>en</td>\n",
       "      <td>10</td>\n",
       "      <td>5.0</td>\n",
       "      <td>nhohn2011</td>\n",
       "      <td>870</td>\n",
       "      <td>508</td>\n",
       "      <td>NaN</td>\n",
       "      <td>PinkFloyd Taiwan China</td>\n",
       "      <td>ChinaInfo777</td>\n",
       "      <td>Florida, USA</td>\n",
       "      <td>0.000000e+00</td>\n",
       "    </tr>\n",
       "    <tr>\n",
       "      <th>8</th>\n",
       "      <td>2022-08-07 22:30:50+00:00</td>\n",
       "      <td>&lt;a href=\"http://twitter.com/download/android\" ...</td>\n",
       "      <td>RT @AmbQinGang: China's SC&amp;amp;FM Wang Yi elab...</td>\n",
       "      <td>0.000000e+00</td>\n",
       "      <td>0.000000</td>\n",
       "      <td>en</td>\n",
       "      <td>1221</td>\n",
       "      <td>239.0</td>\n",
       "      <td>ClaudioColomaRI</td>\n",
       "      <td>127</td>\n",
       "      <td>263</td>\n",
       "      <td>NaN</td>\n",
       "      <td>Taiwan</td>\n",
       "      <td>AmbQinGang</td>\n",
       "      <td>El mundo periférico</td>\n",
       "      <td>0.000000e+00</td>\n",
       "    </tr>\n",
       "    <tr>\n",
       "      <th>9</th>\n",
       "      <td>2022-08-07 22:30:45+00:00</td>\n",
       "      <td>&lt;a href=\"https://mobile.twitter.com\" rel=\"nofo...</td>\n",
       "      <td>RT @CGMeifangZhang: Chinese ambassador to the ...</td>\n",
       "      <td>2.000000e-01</td>\n",
       "      <td>0.375000</td>\n",
       "      <td>en</td>\n",
       "      <td>49</td>\n",
       "      <td>25.0</td>\n",
       "      <td>jmarzola1</td>\n",
       "      <td>213</td>\n",
       "      <td>877</td>\n",
       "      <td>NaN</td>\n",
       "      <td>USA Pelosi Taiwan China</td>\n",
       "      <td>CGMeifangZhang</td>\n",
       "      <td>NaN</td>\n",
       "      <td>2.000000e-01</td>\n",
       "    </tr>\n",
       "  </tbody>\n",
       "</table>\n",
       "</div>"
      ],
      "text/plain": [
       "                  created_at  \\\n",
       "0  2022-08-07 22:31:20+00:00   \n",
       "1  2022-08-07 22:31:16+00:00   \n",
       "2  2022-08-07 22:31:07+00:00   \n",
       "3  2022-08-07 22:31:06+00:00   \n",
       "4  2022-08-07 22:31:04+00:00   \n",
       "5  2022-08-07 22:31:02+00:00   \n",
       "6  2022-08-07 22:30:59+00:00   \n",
       "7  2022-08-07 22:30:59+00:00   \n",
       "8  2022-08-07 22:30:50+00:00   \n",
       "9  2022-08-07 22:30:45+00:00   \n",
       "\n",
       "                                              source  \\\n",
       "0  <a href=\"http://twitter.com/download/android\" ...   \n",
       "1  <a href=\"http://twitter.com/download/android\" ...   \n",
       "2  <a href=\"http://twitter.com/download/android\" ...   \n",
       "3  <a href=\"http://twitter.com/download/android\" ...   \n",
       "4  <a href=\"http://twitter.com/download/iphone\" r...   \n",
       "5  <a href=\"http://twitter.com/download/android\" ...   \n",
       "6  <a href=\"http://twitter.com/download/android\" ...   \n",
       "7  <a href=\"http://twitter.com/download/android\" ...   \n",
       "8  <a href=\"http://twitter.com/download/android\" ...   \n",
       "9  <a href=\"https://mobile.twitter.com\" rel=\"nofo...   \n",
       "\n",
       "                                       original_text      polarity  \\\n",
       "0  RT @i_ameztoy: Extra random image (I):\\n\\nLets... -1.250000e-01   \n",
       "1  RT @IndoPac_Info: #China's media explains the ... -1.000000e-01   \n",
       "2  China even cut off communication, they don't a...  0.000000e+00   \n",
       "3  Putin to #XiJinping : I told you my friend, Ta...  1.000000e-01   \n",
       "4  RT @ChinaUncensored: I’m sorry, I thought Taiw... -6.938894e-18   \n",
       "5  RT @benedictrogers: We must not let this happe...  2.000000e-01   \n",
       "6  RT @TGTM_Official: What kind of country can co...  1.583333e-01   \n",
       "7  RT @ChinaInfo777: #PinkFloyd singer Roger Wate...  0.000000e+00   \n",
       "8  RT @AmbQinGang: China's SC&amp;FM Wang Yi elab...  0.000000e+00   \n",
       "9  RT @CGMeifangZhang: Chinese ambassador to the ...  2.000000e-01   \n",
       "\n",
       "   subjectivity lang  favorite_count  retweet_count  original_author  \\\n",
       "0      0.190625   en               4            2.0        i_ameztoy   \n",
       "1      0.100000   en             691          201.0            ZIisq   \n",
       "2      0.000000   en               0            NaN        Fin21Free   \n",
       "3      0.350000   en               0            NaN        Fin21Free   \n",
       "4      0.556250   en            1521          381.0   VizziniDolores   \n",
       "5      0.500000   en             116           36.0  GraceCh15554845   \n",
       "6      0.800000   en            1106          411.0      Philipkuma1   \n",
       "7      0.000000   en              10            5.0        nhohn2011   \n",
       "8      0.000000   en            1221          239.0  ClaudioColomaRI   \n",
       "9      0.375000   en              49           25.0        jmarzola1   \n",
       "\n",
       "   followers_count  friends_count  possibly_sensitive  \\\n",
       "0            20497           2621                 NaN   \n",
       "1               65            272                 NaN   \n",
       "2               85            392                 NaN   \n",
       "3               85            392                 NaN   \n",
       "4              910           2608                 NaN   \n",
       "5              207             54                 NaN   \n",
       "6               12            264                 NaN   \n",
       "7              870            508                 NaN   \n",
       "8              127            263                 NaN   \n",
       "9              213            877                 NaN   \n",
       "\n",
       "                  hashtags    user_mentions                place  \\\n",
       "0                     City        i_ameztoy                  NaN   \n",
       "1             China Taiwan     IndoPac_Info                  NaN   \n",
       "2                XiJinping      ZelenskyyUa          Netherlands   \n",
       "3                XiJinping              NaN          Netherlands   \n",
       "4                      NaN  ChinaUncensored       Ayent, Schweiz   \n",
       "5                   Taiwan   benedictrogers  Melbourne, Victoria   \n",
       "6        Taiwan TsaiIngwen    TGTM_Official                  NaN   \n",
       "7   PinkFloyd Taiwan China     ChinaInfo777         Florida, USA   \n",
       "8                   Taiwan       AmbQinGang  El mundo periférico   \n",
       "9  USA Pelosi Taiwan China   CGMeifangZhang                  NaN   \n",
       "\n",
       "   friends_count   \n",
       "0   -1.250000e-01  \n",
       "1   -1.000000e-01  \n",
       "2    0.000000e+00  \n",
       "3    1.000000e-01  \n",
       "4   -6.938894e-18  \n",
       "5    2.000000e-01  \n",
       "6    1.583333e-01  \n",
       "7    0.000000e+00  \n",
       "8    0.000000e+00  \n",
       "9    2.000000e-01  "
      ]
     },
     "execution_count": 144,
     "metadata": {},
     "output_type": "execute_result"
    }
   ],
   "source": [
    "# Expose(view) the first 10 lines of the data\n",
    "df.head(10)"
   ]
  },
  {
   "cell_type": "code",
   "execution_count": 145,
   "id": "c5ec8de6",
   "metadata": {
    "scrolled": true
   },
   "outputs": [
    {
     "data": {
      "text/plain": [
       "<bound method IndexOpsMixin.value_counts of 0        20497\n",
       "1           65\n",
       "2           85\n",
       "3           85\n",
       "4          910\n",
       "         ...  \n",
       "21992       62\n",
       "21993       94\n",
       "21994       88\n",
       "21995      537\n",
       "21996       62\n",
       "Name: followers_count, Length: 21997, dtype: int64>"
      ]
     },
     "execution_count": 145,
     "metadata": {},
     "output_type": "execute_result"
    }
   ],
   "source": [
    "# Inspecting some columns of the data randomly\n",
    "df['followers_count']\n",
    "df['followers_count'].value_counts"
   ]
  },
  {
   "cell_type": "code",
   "execution_count": 146,
   "id": "6a8ebd4b",
   "metadata": {},
   "outputs": [
    {
     "name": "stdout",
     "output_type": "stream",
     "text": [
      "Total null values in oringal_text column: 0\n",
      "Total null values in polarity cloumn: 0\n"
     ]
    }
   ],
   "source": [
    "# Check if there are any null values and print the sum\n",
    "total_null_inorginal_text = df['original_text'].isnull().sum()\n",
    "total_null_inpolarity = df['polarity'].isnull().sum()\n",
    "\n",
    "print(f'Total null values in oringal_text column: {total_null_inorginal_text}')\n",
    "print(f'Total null values in polarity cloumn: {total_null_inpolarity}')"
   ]
  },
  {
   "cell_type": "code",
   "execution_count": 147,
   "id": "28d76d72",
   "metadata": {},
   "outputs": [
    {
     "data": {
      "text/plain": [
       "en    21997\n",
       "Name: lang, dtype: int64"
      ]
     },
     "execution_count": 147,
     "metadata": {},
     "output_type": "execute_result"
    }
   ],
   "source": [
    "# Count the number of english language tweets\n",
    "df['lang'].value_counts()"
   ]
  },
  {
   "cell_type": "code",
   "execution_count": 148,
   "id": "a49f817a",
   "metadata": {},
   "outputs": [],
   "source": [
    "# Create cleanedTweet dataframe\n",
    "cleanedTweet = pd.DataFrame(columns = ['clean_text', 'polarity'])\n",
    "\n",
    "cleanedTweet['clean_text'] = df['original_text']\n",
    "cleanedTweet['polarity'] = df['polarity']\n",
    "cleanedTweet.dropna(inplace = True)"
   ]
  },
  {
   "cell_type": "code",
   "execution_count": 149,
   "id": "93648146",
   "metadata": {},
   "outputs": [
    {
     "data": {
      "text/plain": [
       "clean_text    0\n",
       "polarity      0\n",
       "dtype: int64"
      ]
     },
     "execution_count": 149,
     "metadata": {},
     "output_type": "execute_result"
    }
   ],
   "source": [
    "#Check for null values in the new dataframe\n",
    "cleanedTweet.isnull().sum()"
   ]
  },
  {
   "cell_type": "code",
   "execution_count": 154,
   "id": "048992f4",
   "metadata": {},
   "outputs": [],
   "source": [
    "# Removal of unwanted characters from the tweet like @,#,links, mentions and RTs\n",
    "def tweetcleaner(text):\n",
    "    text = ' '.join(re.sub(\"(@[A-Za-z0-9]+)|([^0-9A-Za-z \\t])|(\\w+:\\/\\/\\S+)\",\" \",text).split())\n",
    "    text = re.sub('http[s]?://(?:[a-zA-Z]|[0-9]|[$-_@.&+]|[!*\\(\\),]|(?:%[0-9a-fA-F][0-9a-fA-F]))+', '', text, flags=re.MULTILINE)\n",
    "    text = re.sub(r'https?:\\/\\/\\S+', '', text)\n",
    "    text = re.sub(r'RT[\\S]+', '', text)\n",
    "    return text"
   ]
  },
  {
   "cell_type": "code",
   "execution_count": 155,
   "id": "4007581d",
   "metadata": {},
   "outputs": [
    {
     "data": {
      "text/html": [
       "<div>\n",
       "<style scoped>\n",
       "    .dataframe tbody tr th:only-of-type {\n",
       "        vertical-align: middle;\n",
       "    }\n",
       "\n",
       "    .dataframe tbody tr th {\n",
       "        vertical-align: top;\n",
       "    }\n",
       "\n",
       "    .dataframe thead th {\n",
       "        text-align: right;\n",
       "    }\n",
       "</style>\n",
       "<table border=\"1\" class=\"dataframe\">\n",
       "  <thead>\n",
       "    <tr style=\"text-align: right;\">\n",
       "      <th></th>\n",
       "      <th>clean_text</th>\n",
       "      <th>polarity</th>\n",
       "    </tr>\n",
       "  </thead>\n",
       "  <tbody>\n",
       "    <tr>\n",
       "      <th>0</th>\n",
       "      <td>RT ameztoy Extra random image I Lets focus in ...</td>\n",
       "      <td>-1.250000e-01</td>\n",
       "    </tr>\n",
       "    <tr>\n",
       "      <th>1</th>\n",
       "      <td>RT Info China s media explains the military re...</td>\n",
       "      <td>-1.000000e-01</td>\n",
       "    </tr>\n",
       "    <tr>\n",
       "      <th>2</th>\n",
       "      <td>China even cut off communication they don t an...</td>\n",
       "      <td>0.000000e+00</td>\n",
       "    </tr>\n",
       "    <tr>\n",
       "      <th>3</th>\n",
       "      <td>Putin to XiJinping I told you my friend Taiwan...</td>\n",
       "      <td>1.000000e-01</td>\n",
       "    </tr>\n",
       "    <tr>\n",
       "      <th>4</th>\n",
       "      <td>RT I m sorry I thought Taiwan was an independe...</td>\n",
       "      <td>-6.938894e-18</td>\n",
       "    </tr>\n",
       "    <tr>\n",
       "      <th>...</th>\n",
       "      <td>...</td>\n",
       "      <td>...</td>\n",
       "    </tr>\n",
       "    <tr>\n",
       "      <th>21992</th>\n",
       "      <td>RT Info A good infographic of China s missile ...</td>\n",
       "      <td>7.000000e-01</td>\n",
       "    </tr>\n",
       "    <tr>\n",
       "      <th>21993</th>\n",
       "      <td>RT Info A good infographic of China s missile ...</td>\n",
       "      <td>7.000000e-01</td>\n",
       "    </tr>\n",
       "    <tr>\n",
       "      <th>21994</th>\n",
       "      <td>Thanks Pelosi smart move</td>\n",
       "      <td>2.071429e-01</td>\n",
       "    </tr>\n",
       "    <tr>\n",
       "      <th>21995</th>\n",
       "      <td>RT Info Taiwan people s Desire for Unification...</td>\n",
       "      <td>5.000000e-02</td>\n",
       "    </tr>\n",
       "    <tr>\n",
       "      <th>21996</th>\n",
       "      <td>RT Info Taiwan people s Desire for Unification...</td>\n",
       "      <td>5.000000e-02</td>\n",
       "    </tr>\n",
       "  </tbody>\n",
       "</table>\n",
       "<p>21997 rows × 2 columns</p>\n",
       "</div>"
      ],
      "text/plain": [
       "                                              clean_text      polarity\n",
       "0      RT ameztoy Extra random image I Lets focus in ... -1.250000e-01\n",
       "1      RT Info China s media explains the military re... -1.000000e-01\n",
       "2      China even cut off communication they don t an...  0.000000e+00\n",
       "3      Putin to XiJinping I told you my friend Taiwan...  1.000000e-01\n",
       "4      RT I m sorry I thought Taiwan was an independe... -6.938894e-18\n",
       "...                                                  ...           ...\n",
       "21992  RT Info A good infographic of China s missile ...  7.000000e-01\n",
       "21993  RT Info A good infographic of China s missile ...  7.000000e-01\n",
       "21994                           Thanks Pelosi smart move  2.071429e-01\n",
       "21995  RT Info Taiwan people s Desire for Unification...  5.000000e-02\n",
       "21996  RT Info Taiwan people s Desire for Unification...  5.000000e-02\n",
       "\n",
       "[21997 rows x 2 columns]"
      ]
     },
     "execution_count": 155,
     "metadata": {},
     "output_type": "execute_result"
    }
   ],
   "source": [
    "#Apply \"tweetcleaner\" over the data\n",
    "cleanedTweet['clean_text'] = cleanedTweet['clean_text'].apply(tweetcleaner)\n",
    "cleanedTweet"
   ]
  },
  {
   "cell_type": "code",
   "execution_count": 156,
   "id": "3b1a94b8",
   "metadata": {},
   "outputs": [],
   "source": [
    "# Function: converts polarity into a positive, negative or neutral string\n",
    "def text_category(p: float) -> str:\n",
    "    if p > 0:\n",
    "        return \"positive\"\n",
    "    elif p == 0:\n",
    "        return \"negative\"\n",
    "    else:\n",
    "        return \"neutral\""
   ]
  },
  {
   "cell_type": "code",
   "execution_count": 157,
   "id": "2b797e24",
   "metadata": {},
   "outputs": [],
   "source": [
    "# Apply the text_category function on cleanedTweet to score the polarity of the tweet\n",
    "cleanedTweet['sentiment'] = cleanedTweet['polarity'].apply(text_category)"
   ]
  },
  {
   "cell_type": "code",
   "execution_count": 158,
   "id": "bafc592d",
   "metadata": {},
   "outputs": [
    {
     "data": {
      "text/plain": [
       "0         neutral\n",
       "1         neutral\n",
       "2        negative\n",
       "3        positive\n",
       "4         neutral\n",
       "           ...   \n",
       "21992    positive\n",
       "21993    positive\n",
       "21994    positive\n",
       "21995    positive\n",
       "21996    positive\n",
       "Name: sentiment, Length: 21997, dtype: object"
      ]
     },
     "execution_count": 158,
     "metadata": {},
     "output_type": "execute_result"
    }
   ],
   "source": [
    "# Observe the effect of applyin the text_ctegory function\n",
    "cleanedTweet['sentiment']"
   ]
  },
  {
   "cell_type": "code",
   "execution_count": 159,
   "id": "29d5bc67",
   "metadata": {},
   "outputs": [
    {
     "data": {
      "text/plain": [
       "negative    8982\n",
       "positive    8182\n",
       "neutral     4833\n",
       "Name: sentiment, dtype: int64"
      ]
     },
     "execution_count": 159,
     "metadata": {},
     "output_type": "execute_result"
    }
   ],
   "source": [
    "#Count the values present in the data\n",
    "cleanedTweet['sentiment'].value_counts()"
   ]
  },
  {
   "cell_type": "code",
   "execution_count": 160,
   "id": "a29b04ec",
   "metadata": {},
   "outputs": [
    {
     "data": {
      "text/plain": [
       "<AxesSubplot:title={'center':'Sentiment Graph'}>"
      ]
     },
     "execution_count": 160,
     "metadata": {},
     "output_type": "execute_result"
    },
    {
     "data": {
      "image/png": "[encoded data removed]",
      "text/plain": [
       "<Figure size 576x576 with 1 Axes>"
      ]
     },
     "metadata": {
      "needs_background": "light"
     },
     "output_type": "display_data"
    }
   ],
   "source": [
    "#Use bar chart to observe the frequencies of occerence of each of the three scores in the data\n",
    "score_count =  cleanedTweet['sentiment'].value_counts()\n",
    "score_count.plot(kind=\"bar\", y=\"sentiment\", title=\"Sentiment Graph\", figsize=[8, 8])"
   ]
  },
  {
   "cell_type": "code",
   "execution_count": 161,
   "id": "6afadee1",
   "metadata": {},
   "outputs": [
    {
     "data": {
      "text/plain": [
       "<AxesSubplot:title={'center':'Senitment Pie Chart'}, ylabel='sentiment'>"
      ]
     },
     "execution_count": 161,
     "metadata": {},
     "output_type": "execute_result"
    },
    {
     "data": {
      "image/png": "[encoded data removed]",
      "text/plain": [
       "<Figure size 576x576 with 1 Axes>"
      ]
     },
     "metadata": {},
     "output_type": "display_data"
    }
   ],
   "source": [
    "#Using pie chart to visualize the contribution of each of the scores in the data to the whole data\n",
    "score_count.plot(kind=\"pie\", y=\"Sentiment\", title=\"Senitment Pie Chart\", x=\"\", figsize=[8, 8])"
   ]
  },
  {
   "cell_type": "code",
   "execution_count": 162,
   "id": "57bb4c03",
   "metadata": {},
   "outputs": [
    {
     "data": {
      "image/png": "[encoded data removed]",
      "text/plain": [
       "<Figure size 432x288 with 1 Axes>"
      ]
     },
     "metadata": {
      "needs_background": "light"
     },
     "output_type": "display_data"
    },
    {
     "data": {
      "text/plain": [
       "<Figure size 57600x43200 with 0 Axes>"
      ]
     },
     "metadata": {},
     "output_type": "display_data"
    }
   ],
   "source": [
    "#Plot The Word cloud\n",
    "allWords = ' '.join( [twts for twts in cleanedTweet['clean_text']] )\n",
    "wordCloud = WordCloud(width = 1600, height = 800, random_state = 22, max_font_size = 119).generate(allWords)\n",
    "\n",
    "plt.imshow(wordCloud, interpolation = \"bilinear\")\n",
    "plt.axis('off')\n",
    "plt.figure(figsize = (800, 600))\n",
    "plt.show()"
   ]
  },
  {
   "cell_type": "code",
   "execution_count": 163,
   "id": "eef6a5ce",
   "metadata": {},
   "outputs": [],
   "source": [
    "# Data Preparation for Modeling and Sentiment Analysis\n",
    "class PrepareData:\n",
    "  def __init__(self,df):\n",
    "    self.df=df\n",
    "    \n",
    "  def preprocess_data(self):\n",
    "    \n",
    "    #text Preprocessing\n",
    "    cleanedTweet['clean_text']=cleanedTweet['clean_text'].astype(str)\n",
    "    cleanedTweet['clean_text'] = cleanedTweet['clean_text'].apply(lambda x: x.lower())\n",
    "    cleanedTweet['clean_text']= cleanedTweet['clean_text'].apply(lambda x: x.translate(str.maketrans(' ', ' ', string.punctuation)))\n",
    "    \n",
    "    #Converting tweets to list of words For feature engineering\n",
    "    sentence_list = [tweet for tweet in cleanedTweet['clean_text']]\n",
    "    word_list = [sent.split() for sent in sentence_list]\n",
    "    # print(word_list)\n",
    "\n",
    "    #Create dictionary which contains Id and word \n",
    "    word_to_id = corpora.Dictionary(word_list) #generate unique tokens\n",
    "    #  we can see the word to unique integer mapping\n",
    "    # print(word_to_id.token2id)\n",
    "    # using bag of words(bow), we create a corpus that contains the word id and its frequency in each document.\n",
    "    corpus_1= [word_to_id.doc2bow(tweet) for tweet in word_list]\n",
    "    # TFIDF\n",
    "\n",
    "    return word_list, word_to_id, corpus_1"
   ]
  },
  {
   "cell_type": "code",
   "execution_count": 164,
   "id": "51e796e4",
   "metadata": {},
   "outputs": [],
   "source": [
    "PrepareData_obj=PrepareData(cleanedTweet)\n",
    "word_list ,id2word,corpus=PrepareData_obj.preprocess_data()"
   ]
  },
  {
   "cell_type": "code",
   "execution_count": 171,
   "id": "611b8be3",
   "metadata": {},
   "outputs": [
    {
     "name": "stdout",
     "output_type": "stream",
     "text": [
      "[(7, 2), (19, 1), (24, 1), (36, 1), (38, 1), (41, 1), (54, 1), (58, 2), (60, 1), (61, 1), (62, 1), (63, 1), (64, 1), (65, 1), (66, 1), (67, 1), (68, 1), (69, 1), (70, 1), (71, 1), (72, 1), (73, 1), (74, 1), (75, 1), (76, 1), (77, 1), (78, 1), (79, 1), (80, 1), (81, 2)]\n"
     ]
    }
   ],
   "source": [
    "print(corpus[3])"
   ]
  },
  {
   "cell_type": "code",
   "execution_count": 172,
   "id": "17f11dbb",
   "metadata": {},
   "outputs": [],
   "source": [
    "id_words = [[(id2word[id], count) for id, count in line] for line in corpus]"
   ]
  },
  {
   "cell_type": "code",
   "execution_count": 174,
   "id": "27b54c7c",
   "metadata": {},
   "outputs": [
    {
     "name": "stdout",
     "output_type": "stream",
     "text": [
      "[('i', 2), ('the', 1), ('china', 1), ('s', 1), ('taiwan', 1), ('but', 1), ('putin', 1), ('to', 2), ('xijinping', 1), ('a', 1), ('be', 1), ('eyes', 1), ('friend', 1), ('including', 1), ('it', 1), ('like', 1), ('model', 1), ('much', 1), ('my', 1), ('nukes', 1), ('open', 1), ('pelosi', 1), ('state', 1), ('told', 1), ('took', 1), ('ukrainian', 1), ('vassal', 1), ('warned', 1), ('will', 1), ('you', 2)]\n"
     ]
    }
   ],
   "source": [
    "print(id_words[3])"
   ]
  },
  {
   "cell_type": "code",
   "execution_count": 175,
   "id": "f7789a43",
   "metadata": {},
   "outputs": [],
   "source": [
    "# Topic Modeling using Latent Dirichlet Allocation\n",
    "lda_model = gensim.models.ldamodel.LdaModel(corpus,\n",
    "                                           id2word=id2word,\n",
    "                                           num_topics=5, \n",
    "                                           random_state=100,\n",
    "                                           update_every=1,\n",
    "                                           chunksize=100,\n",
    "                                           passes=10,\n",
    "                                           alpha='auto',\n",
    "                                           per_word_topics=True)"
   ]
  },
  {
   "cell_type": "code",
   "execution_count": 176,
   "id": "f9ade2a9",
   "metadata": {},
   "outputs": [
    {
     "name": "stdout",
     "output_type": "stream",
     "text": [
      "[(0,\n",
      "  '0.042*\"rt\" + 0.035*\"taiwan\" + 0.033*\"that\" + 0.029*\"china\" + 0.025*\"s\" + '\n",
      "  '0.025*\"launches\" + 0.024*\"infographic\" + 0.024*\"with\" + 0.023*\"is\" + '\n",
      "  '0.022*\"the\"'),\n",
      " (1,\n",
      "  '0.037*\"rt\" + 0.037*\"taiwan\" + 0.033*\"of\" + 0.027*\"the\" + 0.020*\"to\" + '\n",
      "  '0.018*\"is\" + 0.018*\"you\" + 0.016*\"by\" + 0.015*\"a\" + 0.015*\"t\"'),\n",
      " (2,\n",
      "  '0.030*\"they\" + 0.022*\"how\" + 0.022*\"are\" + 0.020*\"russia\" + 0.019*\"the\" + '\n",
      "  '0.019*\"japan\" + 0.019*\"do\" + 0.018*\"usa\" + 0.018*\"with\" + 0.016*\"drones\"'),\n",
      " (3,\n",
      "  '0.058*\"taiwan\" + 0.043*\"rt\" + 0.038*\"the\" + 0.037*\"on\" + 0.036*\"s\" + '\n",
      "  '0.034*\"of\" + 0.028*\"china\" + 0.026*\"info\" + 0.023*\"in\" + 0.017*\"missile\"'),\n",
      " (4,\n",
      "  '0.048*\"the\" + 0.048*\"to\" + 0.043*\"taiwan\" + 0.040*\"rt\" + 0.030*\"s\" + '\n",
      "  '0.027*\"china\" + 0.021*\"in\" + 0.021*\"is\" + 0.019*\"pelosi\" + 0.019*\"and\"')]\n"
     ]
    }
   ],
   "source": [
    "pprint(lda_model.print_topics())"
   ]
  },
  {
   "cell_type": "code",
   "execution_count": 177,
   "id": "c54a089b",
   "metadata": {},
   "outputs": [
    {
     "name": "stdout",
     "output_type": "stream",
     "text": [
      "[(0,\n",
      "  [('rt', 0.041678164),\n",
      "   ('taiwan', 0.03504049),\n",
      "   ('that', 0.033464253),\n",
      "   ('china', 0.029401824),\n",
      "   ('s', 0.024813699),\n",
      "   ('launches', 0.024670843),\n",
      "   ('infographic', 0.024392443),\n",
      "   ('with', 0.024307504),\n",
      "   ('is', 0.023480723),\n",
      "   ('the', 0.022219148)]),\n",
      " (1,\n",
      "  [('rt', 0.037234213),\n",
      "   ('taiwan', 0.037055768),\n",
      "   ('of', 0.032615263),\n",
      "   ('the', 0.026638545),\n",
      "   ('to', 0.01987146),\n",
      "   ('is', 0.01845623),\n",
      "   ('you', 0.01750323),\n",
      "   ('by', 0.01632187),\n",
      "   ('a', 0.015319501),\n",
      "   ('t', 0.015029564)]),\n",
      " (2,\n",
      "  [('they', 0.02951544),\n",
      "   ('how', 0.021633232),\n",
      "   ('are', 0.02154295),\n",
      "   ('russia', 0.020196157),\n",
      "   ('the', 0.01899873),\n",
      "   ('japan', 0.01881948),\n",
      "   ('do', 0.018613799),\n",
      "   ('usa', 0.018156545),\n",
      "   ('with', 0.018110821),\n",
      "   ('drones', 0.015953772)]),\n",
      " (3,\n",
      "  [('taiwan', 0.05803028),\n",
      "   ('rt', 0.043364815),\n",
      "   ('the', 0.03834587),\n",
      "   ('on', 0.036732994),\n",
      "   ('s', 0.035767287),\n",
      "   ('of', 0.033827465),\n",
      "   ('china', 0.028033452),\n",
      "   ('info', 0.026491623),\n",
      "   ('in', 0.023450512),\n",
      "   ('missile', 0.0172352)]),\n",
      " (4,\n",
      "  [('the', 0.047640778),\n",
      "   ('to', 0.047561005),\n",
      "   ('taiwan', 0.043103117),\n",
      "   ('rt', 0.03977884),\n",
      "   ('s', 0.030100023),\n",
      "   ('china', 0.027458476),\n",
      "   ('in', 0.021116847),\n",
      "   ('is', 0.020546008),\n",
      "   ('pelosi', 0.019400578),\n",
      "   ('and', 0.019048765)])]\n"
     ]
    }
   ],
   "source": [
    "pprint(lda_model.show_topics(formatted=False))"
   ]
  },
  {
   "cell_type": "code",
   "execution_count": 178,
   "id": "d9a5ae12",
   "metadata": {},
   "outputs": [
    {
     "name": "stdout",
     "output_type": "stream",
     "text": [
      "Collecting pyLDAvis\n",
      "  Downloading pyLDAvis-3.3.1.tar.gz (1.7 MB)\n",
      "  Installing build dependencies: started\n",
      "  Installing build dependencies: still running...\n",
      "  Installing build dependencies: finished with status 'done'\n",
      "  Getting requirements to build wheel: started\n",
      "  Getting requirements to build wheel: finished with status 'done'\n",
      "  Installing backend dependencies: started\n",
      "  Installing backend dependencies: finished with status 'done'\n",
      "    Preparing wheel metadata: started\n",
      "    Preparing wheel metadata: finished with status 'done'\n",
      "Requirement already satisfied: joblib in c:\\users\\mikyg\\anaconda3\\lib\\site-packages (from pyLDAvis) (1.1.0)\n",
      "Requirement already satisfied: pandas>=1.2.0 in c:\\users\\mikyg\\anaconda3\\lib\\site-packages (from pyLDAvis) (1.4.2)\n",
      "Collecting funcy\n",
      "  Downloading funcy-1.17-py2.py3-none-any.whl (33 kB)\n",
      "Requirement already satisfied: scipy in c:\\users\\mikyg\\anaconda3\\lib\\site-packages (from pyLDAvis) (1.7.3)\n",
      "Requirement already satisfied: gensim in c:\\users\\mikyg\\anaconda3\\lib\\site-packages (from pyLDAvis) (4.1.2)\n",
      "Requirement already satisfied: numpy>=1.20.0 in c:\\users\\mikyg\\anaconda3\\lib\\site-packages (from pyLDAvis) (1.21.5)\n",
      "Requirement already satisfied: numexpr in c:\\users\\mikyg\\anaconda3\\lib\\site-packages (from pyLDAvis) (2.8.1)\n",
      "Requirement already satisfied: future in c:\\users\\mikyg\\anaconda3\\lib\\site-packages (from pyLDAvis) (0.18.2)\n",
      "Requirement already satisfied: setuptools in c:\\users\\mikyg\\anaconda3\\lib\\site-packages (from pyLDAvis) (61.2.0)\n",
      "Requirement already satisfied: scikit-learn in c:\\users\\mikyg\\anaconda3\\lib\\site-packages (from pyLDAvis) (1.0.2)\n",
      "Collecting sklearn\n",
      "  Downloading sklearn-0.0.tar.gz (1.1 kB)\n",
      "Requirement already satisfied: jinja2 in c:\\users\\mikyg\\anaconda3\\lib\\site-packages (from pyLDAvis) (2.11.3)\n",
      "Requirement already satisfied: python-dateutil>=2.8.1 in c:\\users\\mikyg\\anaconda3\\lib\\site-packages (from pandas>=1.2.0->pyLDAvis) (2.8.2)\n",
      "Requirement already satisfied: pytz>=2020.1 in c:\\users\\mikyg\\anaconda3\\lib\\site-packages (from pandas>=1.2.0->pyLDAvis) (2021.3)\n",
      "Requirement already satisfied: six>=1.5 in c:\\users\\mikyg\\anaconda3\\lib\\site-packages (from python-dateutil>=2.8.1->pandas>=1.2.0->pyLDAvis) (1.16.0)\n",
      "Requirement already satisfied: smart-open>=1.8.1 in c:\\users\\mikyg\\anaconda3\\lib\\site-packages (from gensim->pyLDAvis) (5.1.0)\n",
      "Requirement already satisfied: MarkupSafe>=0.23 in c:\\users\\mikyg\\anaconda3\\lib\\site-packages (from jinja2->pyLDAvis) (2.0.1)\n",
      "Requirement already satisfied: packaging in c:\\users\\mikyg\\anaconda3\\lib\\site-packages (from numexpr->pyLDAvis) (21.3)\n",
      "Requirement already satisfied: pyparsing!=3.0.5,>=2.0.2 in c:\\users\\mikyg\\anaconda3\\lib\\site-packages (from packaging->numexpr->pyLDAvis) (3.0.4)\n",
      "Requirement already satisfied: threadpoolctl>=2.0.0 in c:\\users\\mikyg\\anaconda3\\lib\\site-packages (from scikit-learn->pyLDAvis) (2.2.0)\n",
      "Building wheels for collected packages: pyLDAvis, sklearn\n",
      "  Building wheel for pyLDAvis (PEP 517): started\n",
      "  Building wheel for pyLDAvis (PEP 517): finished with status 'done'\n",
      "  Created wheel for pyLDAvis: filename=pyLDAvis-3.3.1-py2.py3-none-any.whl size=136882 sha256=48817d2342cade94a93813fe74e1fe37e8b11ca8809dd1f5bfa8c3c2c1af4851\n",
      "  Stored in directory: c:\\users\\mikyg\\appdata\\local\\pip\\cache\\wheels\\57\\a4\\86\\d10c6c2e0bf149fbc0afb0aa5a6528ac35b30a133a0270c477\n",
      "  Building wheel for sklearn (setup.py): started\n",
      "  Building wheel for sklearn (setup.py): finished with status 'done'\n",
      "  Created wheel for sklearn: filename=sklearn-0.0-py2.py3-none-any.whl size=1310 sha256=6f6c1cfec8796caa129e0255961a5a1cc68e33db8647a59de75a9e07ef544a1e\n",
      "  Stored in directory: c:\\users\\mikyg\\appdata\\local\\pip\\cache\\wheels\\e4\\7b\\98\\b6466d71b8d738a0c547008b9eb39bf8676d1ff6ca4b22af1c\n",
      "Successfully built pyLDAvis sklearn\n",
      "Installing collected packages: sklearn, funcy, pyLDAvis\n",
      "Successfully installed funcy-1.17 pyLDAvis-3.3.1 sklearn-0.0\n"
     ]
    }
   ],
   "source": [
    "#Model Analysis\n",
    "!pip install pyLDAvis"
   ]
  },
  {
   "cell_type": "code",
   "execution_count": 179,
   "id": "ed6beecb",
   "metadata": {},
   "outputs": [
    {
     "data": {
      "text/html": [
       "\n",
       "<link rel=\"stylesheet\" type=\"text/css\" href=\"https://cdn.jsdelivr.net/gh/bmabey/pyLDAvis@3.3.1/pyLDAvis/js/ldavis.v1.0.0.css\">\n",
       "\n",
       "\n",
       "<div id=\"ldavis_el482026939030920805881383665\"></div>\n",
       "<script type=\"text/javascript\">\n",
       "\n",
       "var ldavis_el482026939030920805881383665_data = {\"mdsDat\": {\"x\": [-0.13702297476932326, -0.15216755217150957, -0.046573350173713855, -0.04102747766967516, 0.3767913547842219], \"y\": [0.015274244154294516, -0.21951957264326377, 0.2532792978273608, 0.002487184405874993, -0.051521153744266794], \"topics\": [1, 2, 3, 4, 5], \"cluster\": [1, 1, 1, 1, 1], \"Freq\": [36.66480791620658, 22.939318156055094, 18.120093728324928, 13.348462624612601, 8.9273175748008]}, \"tinfo\": {\"Term\": [\"info\", \"that\", \"on\", \"to\", \"with\", \"is\", \"they\", \"launches\", \"s\", \"infographic\", \"taiwan\", \"of\", \"missile\", \"island\", \"us\", \"pelosi\", \"china\", \"military\", \"part\", \"you\", \"chinese\", \"are\", \"visit\", \"how\", \"in\", \"out\", \"russia\", \"by\", \"nancy\", \"we\", \"us\", \"visit\", \"not\", \"have\", \"time\", \"people\", \"so\", \"dead\", \"found\", \"when\", \"m\", \"should\", \"government\", \"his\", \"national\", \"authorities\", \"our\", \"maybe\", \"own\", \"called\", \"d\", \"xijinping\", \"she\", \"democratic\", \"gazaunderattack\", \"crisis\", \"or\", \"palestinian\", \"responsible\", \"democracy\", \"official\", \"it\", \"was\", \"its\", \"pelosi\", \"speaker\", \"be\", \"to\", \"gaza\", \"the\", \"as\", \"and\", \"in\", \"s\", \"is\", \"china\", \"taiwan\", \"rt\", \"a\", \"ukraine\", \"an\", \"about\", \"of\", \"for\", \"on\", \"by\", \"i\", \"this\", \"that\", \"info\", \"missile\", \"island\", \"august\", \"4th\", \"drills\", \"near\", \"around\", \"travel\", \"hotel\", \"army\", \"strait\", \"fired\", \"watch\", \"pla\", \"attack\", \"exercises\", \"entered\", \"again\", \"day\", \"restricted\", \"live\", \"programme\", \"nancypelosi\", \"foreign\", \"forces\", \"amid\", \"ministry\", \"high\", \"tension\", \"waters\", \"3\", \"chinataiwancrisis\", \"said\", \"military\", \"good\", \"chinese\", \"on\", \"taiwan\", \"of\", \"s\", \"in\", \"rt\", \"the\", \"china\", \"a\", \"amp\", \"just\", \"now\", \"war\", \"minister\", \"president\", \"support\", \"li\", \"u\", \"your\", \"did\", \"somalia\", \"speech\", \"based\", \"nicaragua\", \"says\", \"delegation\", \"because\", \"independent\", \"trip\", \"biden\", \"against\", \"know\", \"than\", \"firm\", \"tv\", \"does\", \"democrats\", \"deputy\", \"lithuania\", \"united\", \"followed\", \"foot\", \"if\", \"you\", \"t\", \"like\", \"political\", \"country\", \"all\", \"at\", \"by\", \"of\", \"rt\", \"amp\", \"taiwan\", \"is\", \"the\", \"what\", \"to\", \"i\", \"for\", \"a\", \"this\", \"with\", \"and\", \"an\", \"china\", \"launches\", \"infographic\", \"part\", \"out\", \"nancy\", \"her\", \"wwiii\", \"5\", \"thing\", \"house\", \"why\", \"where\", \"david\", \"forget\", \"been\", \"easily\", \"funny\", \"ashawo\", \"balogun\", \"hundeyin\", \"nigerians\", \"tafa\", \"set\", \"don\", \"situation\", \"coincidence\", \"never\", \"could\", \"x\", \"madam\", \"that\", \"check\", \"with\", \"we\", \"has\", \"rt\", \"china\", \"is\", \"taiwan\", \"s\", \"on\", \"the\", \"about\", \"this\", \"video\", \"a\", \"they\", \"how\", \"russia\", \"japan\", \"do\", \"drones\", \"kinmen\", \"had\", \"would\", \"uk\", \"fulliv\", \"small\", \"israel\", \"baddecisions\", \"matter\", \"taipei\", \"record\", \"america\", \"ukrainianarmy\", \"show\", \"make\", \"policy\", \"off\", \"europe\", \"already\", \"many\", \"160\", \"key\", \"unitedstates\", \"sanction\", \"most\", \"taiwanchina\", \"western\", \"usa\", \"they\", \"ccp\", \"are\", \"no\", \"world\", \"after\", \"with\", \"their\", \"for\", \"the\", \"rt\", \"and\"], \"Freq\": [2832.0, 3288.0, 6883.0, 10407.0, 3178.0, 6528.0, 1793.0, 1535.0, 10734.0, 1517.0, 18872.0, 9093.0, 1842.0, 1816.0, 2649.0, 3693.0, 10144.0, 2077.0, 1142.0, 1591.0, 2289.0, 1404.0, 2198.0, 900.0, 6529.0, 1049.0, 840.0, 2660.0, 986.0, 1540.0, 2648.2027180121368, 2197.6996390237287, 1703.3600547016586, 1380.4106843529682, 902.4773759643095, 868.5241051767126, 779.4575895395092, 735.6002440721577, 706.91467501584, 682.7766299410844, 661.7049878197705, 605.5078969333136, 591.8699782245844, 573.9239584442387, 557.0534725100158, 540.2610177633865, 514.1231152793774, 492.1039231863933, 466.90267335223956, 464.1976319535763, 420.795309328864, 421.65937945203325, 407.00673713460753, 405.48950381375766, 400.06919980582387, 388.0300057040705, 381.22884398296185, 366.4115487008891, 366.7860745385898, 361.89425086742636, 579.5460219907363, 2232.876352926898, 1460.3680730054325, 1440.9919984787552, 3313.9331526475466, 618.1748404055955, 974.4132221661498, 8124.190449569691, 542.4922642905909, 8137.817033472883, 1511.4699898322622, 3253.837843166201, 3607.0997447639093, 5141.571833299852, 3509.5911455050245, 4690.352712771468, 7362.711054749755, 6794.870546094253, 3167.152432116779, 899.0750252832414, 1034.2524843560955, 1008.8346005368131, 2329.634071032997, 1455.7881752284059, 1826.3219341901, 1212.3037459456439, 1036.8261613242685, 1176.1947144585963, 1088.8222948798718, 2831.188188397505, 1841.944390963667, 1815.5231725189694, 1211.129340423949, 1055.5902622363446, 995.9417658174347, 998.6729085835523, 839.2413547655788, 761.1564502980724, 714.5898191813956, 670.5666642971076, 622.8216804396122, 615.6232182003519, 621.3390103151416, 594.1012359209824, 577.0321410556783, 533.8242482121071, 514.4318904296485, 528.8849506414086, 513.3348548768735, 495.9380029733468, 483.8182583543744, 470.5637557661415, 459.3770188836701, 454.33789127673197, 410.40553395033004, 374.93762903861233, 352.780262916925, 343.7071757349372, 329.22154385881083, 705.2381434934908, 817.0545522199454, 1062.0332310657575, 867.3468442703435, 1812.1862813973637, 1120.9555460844635, 1777.1412606994777, 3925.694448170652, 6201.758361192148, 3615.1774500649535, 3822.488305421285, 2506.1814029779807, 4634.444309763469, 4098.064193654455, 2995.965078303465, 1695.3236285658743, 887.8314103306443, 650.6993424738359, 633.8203526625873, 1030.2683199129049, 1019.3809992788526, 932.8919851594803, 836.6949699334232, 680.1738739712797, 603.3684097337248, 886.3062693255077, 528.0332817722407, 508.95932153245855, 504.5530692930066, 500.4640540064165, 481.8416552136634, 466.9062809912717, 447.6371433697102, 441.6249331085403, 430.7944556757072, 434.14199346479046, 428.40491844935536, 406.76401201565443, 363.85616137038073, 360.92166059043245, 349.68309929047933, 356.9023823985607, 358.68028520736885, 331.60259782055147, 321.45989953607904, 317.2296803914122, 313.8873709189002, 314.1028719072012, 307.7396568440358, 892.3403756192358, 1477.6048154244381, 1268.7804266957396, 458.6764389801892, 370.8308536084861, 709.7509718537486, 612.4812475855982, 685.1650686963059, 1377.875580971312, 2753.3472370180384, 3143.274300694723, 927.469473972645, 3128.2101447799428, 1558.0561066701985, 2248.7988063818393, 657.5840084245572, 1677.5284079522842, 779.3139990098349, 1023.4675773050861, 1293.2566531371372, 918.3344649136571, 912.6936223716551, 883.2479006845349, 632.828951536239, 629.177581726255, 1534.245650523346, 1516.9323230803502, 1141.693505082291, 1048.523443269293, 985.3544999862589, 928.5216333620039, 672.5008255178267, 603.0068099322646, 571.8374921097399, 576.238481680579, 579.1642504194488, 558.3001068025153, 518.0221937225555, 512.2684791801223, 520.4407774735743, 502.8937522544018, 494.7022252963425, 483.4052979630286, 483.4052979630286, 483.4052979630286, 483.4052979630286, 483.4052979630286, 443.2643601595639, 399.5260693387519, 375.39777302822426, 368.4628566775545, 373.86408431396256, 369.83941476808207, 355.2977661176071, 354.50301992561305, 2081.09566672883, 579.8077156718213, 1511.6501162444483, 865.8771345308357, 813.5262263723628, 2591.907458729617, 1828.458814267224, 1460.2337096023596, 2179.119692166565, 1543.1296410779278, 1130.6965622921512, 1381.7780937918126, 637.1321874321821, 707.1502999636235, 564.3990685429135, 637.4246137201416, 564.9055006011263, 899.7504099441538, 839.9808289576063, 782.723274081808, 774.1687816604983, 663.5352813667165, 606.0155696920909, 474.6537481009573, 410.4680568192696, 410.828057600638, 387.7059286544193, 376.91570510552157, 371.6474690099378, 359.5294956457025, 360.28695371323636, 350.48574457693593, 347.135420972064, 323.14675689780654, 311.0319404158267, 286.64676805681796, 239.6722826272215, 231.34849438644017, 227.04849150922044, 205.38592673803336, 195.06995212034758, 193.10753340004757, 183.5338909293959, 190.6206267757107, 174.18405785348781, 164.75778174529754, 162.39605615444324, 162.79559543350715, 222.24826804984107, 755.1511031980478, 1227.5802757798779, 597.4646408679284, 895.9954631240705, 565.9177421835078, 629.0974532313974, 513.6399269733781, 753.2493818335048, 353.66633250029764, 597.0820577263773, 790.1785517222189, 548.4876462501262, 413.1656223901819], \"Total\": [2832.0, 3288.0, 6883.0, 10407.0, 3178.0, 6528.0, 1793.0, 1535.0, 10734.0, 1517.0, 18872.0, 9093.0, 1842.0, 1816.0, 2649.0, 3693.0, 10144.0, 2077.0, 1142.0, 1591.0, 2289.0, 1404.0, 2198.0, 900.0, 6529.0, 1049.0, 840.0, 2660.0, 986.0, 1540.0, 2649.1503614303265, 2198.6770436285274, 1704.2948280008331, 1381.3409953646185, 903.4173678658918, 869.458889765549, 780.3984052343995, 736.5395886384853, 707.855203402933, 683.7149443513069, 662.6843422898345, 606.4380920279219, 592.8028042151703, 574.8563982714554, 557.9877747868638, 541.1876451870517, 515.0644844823935, 493.03898825785546, 467.83216972176723, 465.21383747789054, 421.7279946578457, 422.6230531661989, 407.94203719487933, 406.4273144273616, 401.01684712906666, 388.98708379126333, 382.1771995817269, 367.3384404994485, 367.7141691711476, 362.8238100888821, 582.9734696767545, 2325.215226459659, 1526.5588886691583, 1515.7689663719668, 3693.446448108537, 633.6428998075119, 1038.0890119524695, 10407.892809215416, 568.0533305014129, 16656.63667902321, 2093.3991353118527, 5648.696419818932, 6529.624988215262, 10734.354272688412, 6528.301971458267, 10144.186312141004, 18872.03474777091, 17712.98426153219, 6793.386177540103, 1104.0800851992922, 1667.7809299259836, 1646.6241193303952, 9093.290559387055, 3663.1702919341296, 6883.183136580086, 2660.2723804140346, 1816.838249209513, 2802.103516306144, 3288.4273324539968, 2832.117119799027, 1842.8735682410181, 1816.4528363711572, 1212.0569520215222, 1056.5191770584518, 996.8687046254797, 999.6065999188356, 840.1709519352625, 762.1446192839602, 715.5222832902914, 671.4982126105441, 623.746307393464, 616.5505593386455, 622.2882608836009, 595.029246250696, 577.9734371903945, 534.7546386245331, 515.3560224150901, 529.8386998165613, 514.282386435861, 496.8620311696518, 484.74755593965256, 471.4958227949, 460.3266051758301, 455.3243603917825, 411.33436551305624, 375.8692524249643, 353.7143065155844, 344.64073344413373, 330.15487150127683, 708.2279699096032, 829.5288777334855, 1142.8126284986045, 928.3008618859301, 2077.5192000331613, 1228.9992317681301, 2289.3386493824264, 6883.183136580086, 18872.03474777091, 9093.290559387055, 10734.354272688412, 6529.624988215262, 17712.98426153219, 16656.63667902321, 10144.186312141004, 6793.386177540103, 1979.6214508187384, 837.3286183803353, 984.6886856366841, 1031.17338071349, 1020.2906548868808, 933.7758424078518, 837.6206196118669, 681.0523809483117, 604.2726956716753, 887.7901558823877, 528.9354120802947, 509.84264002043585, 505.43197818693176, 501.3426075187997, 482.71848885734886, 467.80829521743544, 448.51771105529036, 442.51308268441704, 431.6803529280082, 435.04391386877046, 429.30086581407875, 407.67102526010984, 364.7497251848541, 361.82003993639773, 350.5716638822087, 357.816798158658, 359.61526004415686, 332.5046051640438, 322.33896039531777, 318.1100115907185, 314.78785298335606, 315.0095882485713, 308.6476380858064, 898.3889414736536, 1591.031632457604, 1430.6604598079066, 474.4874958055256, 378.37518225759226, 804.1882752278063, 696.6613156259689, 863.633008484446, 2660.2723804140346, 9093.290559387055, 17712.98426153219, 1979.6214508187384, 18872.03474777091, 6528.301971458267, 16656.63667902321, 1087.0721747708053, 10407.892809215416, 1816.838249209513, 3663.1702919341296, 6793.386177540103, 2802.103516306144, 3178.0009717780604, 5648.696419818932, 1667.7809299259836, 10144.186312141004, 1535.1008627366448, 1517.7871751730574, 1142.567040267492, 1049.3786295352352, 986.2039745220426, 929.3699373755536, 673.3488687055432, 603.8873815785458, 572.6800208093641, 577.0912038366853, 580.0281846295504, 559.1477944128095, 518.8589117084582, 513.1053523842365, 521.298591108067, 503.7302598095869, 495.5384762283025, 484.24141420200317, 484.24141420200317, 484.24141420200317, 484.24141420200317, 484.24141420200317, 444.1126205116208, 400.3813717948041, 376.2530836913636, 369.30578975232953, 374.7341955022572, 370.70287367664054, 356.1349568218047, 355.3444375368112, 3288.4273324539968, 664.7206280039476, 3178.0009717780604, 1540.9270852567136, 1438.5736404624254, 17712.98426153219, 10144.186312141004, 6528.301971458267, 18872.03474777091, 10734.354272688412, 6883.183136580086, 16656.63667902321, 1646.6241193303952, 2802.103516306144, 1157.2972740733621, 6793.386177540103, 1793.11369849014, 900.6506018039216, 840.8763703797873, 783.633083033426, 775.0728044557598, 664.4401281537862, 606.919775524604, 475.58831965205843, 411.36214672021083, 411.7266982812268, 388.5934163428418, 377.81409374684347, 372.54296339231297, 360.42001631397056, 361.17946800636713, 351.3907472037185, 348.05979356787185, 324.04484046948505, 311.9208384663472, 287.5997393187548, 240.57458258543346, 232.24410724696003, 227.95780219410977, 206.28501482305916, 195.96336901296235, 194.0053826288308, 184.4249609014743, 191.58421406657007, 175.07453359084334, 165.64748140309806, 163.29474654287165, 163.70150122832572, 228.9457117681032, 950.5685460392589, 1793.11369849014, 825.3519169770815, 1404.540799036929, 865.0064386949643, 1014.0094689115535, 905.2266453074428, 3178.0009717780604, 802.9754600833634, 3663.1702919341296, 16656.63667902321, 17712.98426153219, 5648.696419818932], \"Category\": [\"Default\", \"Default\", \"Default\", \"Default\", \"Default\", \"Default\", \"Default\", \"Default\", \"Default\", \"Default\", \"Default\", \"Default\", \"Default\", \"Default\", \"Default\", \"Default\", \"Default\", \"Default\", \"Default\", \"Default\", \"Default\", \"Default\", \"Default\", \"Default\", \"Default\", \"Default\", \"Default\", \"Default\", \"Default\", \"Default\", \"Topic1\", \"Topic1\", \"Topic1\", \"Topic1\", \"Topic1\", \"Topic1\", \"Topic1\", \"Topic1\", \"Topic1\", \"Topic1\", \"Topic1\", \"Topic1\", \"Topic1\", \"Topic1\", \"Topic1\", \"Topic1\", \"Topic1\", \"Topic1\", \"Topic1\", \"Topic1\", \"Topic1\", \"Topic1\", \"Topic1\", \"Topic1\", \"Topic1\", \"Topic1\", \"Topic1\", \"Topic1\", \"Topic1\", \"Topic1\", \"Topic1\", \"Topic1\", \"Topic1\", \"Topic1\", \"Topic1\", \"Topic1\", \"Topic1\", \"Topic1\", \"Topic1\", \"Topic1\", \"Topic1\", \"Topic1\", \"Topic1\", \"Topic1\", \"Topic1\", \"Topic1\", \"Topic1\", \"Topic1\", \"Topic1\", \"Topic1\", \"Topic1\", \"Topic1\", \"Topic1\", \"Topic1\", \"Topic1\", \"Topic1\", \"Topic1\", \"Topic1\", \"Topic1\", \"Topic2\", \"Topic2\", \"Topic2\", \"Topic2\", \"Topic2\", \"Topic2\", \"Topic2\", \"Topic2\", \"Topic2\", \"Topic2\", \"Topic2\", \"Topic2\", \"Topic2\", \"Topic2\", \"Topic2\", \"Topic2\", \"Topic2\", \"Topic2\", \"Topic2\", \"Topic2\", \"Topic2\", \"Topic2\", \"Topic2\", \"Topic2\", \"Topic2\", \"Topic2\", \"Topic2\", \"Topic2\", \"Topic2\", \"Topic2\", \"Topic2\", \"Topic2\", \"Topic2\", \"Topic2\", \"Topic2\", \"Topic2\", \"Topic2\", \"Topic2\", \"Topic2\", \"Topic2\", \"Topic2\", \"Topic2\", \"Topic2\", \"Topic2\", \"Topic2\", \"Topic2\", \"Topic2\", \"Topic2\", \"Topic2\", \"Topic3\", \"Topic3\", \"Topic3\", \"Topic3\", \"Topic3\", \"Topic3\", \"Topic3\", \"Topic3\", \"Topic3\", \"Topic3\", \"Topic3\", \"Topic3\", \"Topic3\", \"Topic3\", \"Topic3\", \"Topic3\", \"Topic3\", \"Topic3\", \"Topic3\", \"Topic3\", \"Topic3\", \"Topic3\", \"Topic3\", \"Topic3\", \"Topic3\", \"Topic3\", \"Topic3\", \"Topic3\", \"Topic3\", \"Topic3\", \"Topic3\", \"Topic3\", \"Topic3\", \"Topic3\", \"Topic3\", \"Topic3\", \"Topic3\", \"Topic3\", \"Topic3\", \"Topic3\", \"Topic3\", \"Topic3\", \"Topic3\", \"Topic3\", \"Topic3\", \"Topic3\", \"Topic3\", \"Topic3\", \"Topic3\", \"Topic3\", \"Topic3\", \"Topic3\", \"Topic3\", \"Topic3\", \"Topic3\", \"Topic4\", \"Topic4\", \"Topic4\", \"Topic4\", \"Topic4\", \"Topic4\", \"Topic4\", \"Topic4\", \"Topic4\", \"Topic4\", \"Topic4\", \"Topic4\", \"Topic4\", \"Topic4\", \"Topic4\", \"Topic4\", \"Topic4\", \"Topic4\", \"Topic4\", \"Topic4\", \"Topic4\", \"Topic4\", \"Topic4\", \"Topic4\", \"Topic4\", \"Topic4\", \"Topic4\", \"Topic4\", \"Topic4\", \"Topic4\", \"Topic4\", \"Topic4\", \"Topic4\", \"Topic4\", \"Topic4\", \"Topic4\", \"Topic4\", \"Topic4\", \"Topic4\", \"Topic4\", \"Topic4\", \"Topic4\", \"Topic4\", \"Topic4\", \"Topic4\", \"Topic4\", \"Topic4\", \"Topic5\", \"Topic5\", \"Topic5\", \"Topic5\", \"Topic5\", \"Topic5\", \"Topic5\", \"Topic5\", \"Topic5\", \"Topic5\", \"Topic5\", \"Topic5\", \"Topic5\", \"Topic5\", \"Topic5\", \"Topic5\", \"Topic5\", \"Topic5\", \"Topic5\", \"Topic5\", \"Topic5\", \"Topic5\", \"Topic5\", \"Topic5\", \"Topic5\", \"Topic5\", \"Topic5\", \"Topic5\", \"Topic5\", \"Topic5\", \"Topic5\", \"Topic5\", \"Topic5\", \"Topic5\", \"Topic5\", \"Topic5\", \"Topic5\", \"Topic5\", \"Topic5\", \"Topic5\", \"Topic5\", \"Topic5\", \"Topic5\", \"Topic5\", \"Topic5\"], \"logprob\": [30.0, 29.0, 28.0, 27.0, 26.0, 25.0, 24.0, 23.0, 22.0, 21.0, 20.0, 19.0, 18.0, 17.0, 16.0, 15.0, 14.0, 13.0, 12.0, 11.0, 10.0, 9.0, 8.0, 7.0, 6.0, 5.0, 4.0, 3.0, 2.0, 1.0, -4.1667, -4.3532, -4.608, -4.8182, -5.2432, -5.2815, -5.3897, -5.4477, -5.4874, -5.5222, -5.5535, -5.6423, -5.6651, -5.6958, -5.7257, -5.7563, -5.8059, -5.8497, -5.9022, -5.908, -6.0062, -6.0041, -6.0395, -6.0432, -6.0567, -6.0873, -6.1049, -6.1446, -6.1436, -6.157, -5.6861, -4.3373, -4.7619, -4.7753, -3.9425, -5.6216, -5.1665, -3.0457, -5.7522, -3.0441, -4.7275, -3.9608, -3.8577, -3.5032, -3.8851, -3.5951, -3.1442, -3.2244, -3.9878, -5.247, -5.1069, -5.1318, -4.2949, -4.765, -4.5383, -4.9481, -5.1044, -4.9783, -5.0555, -3.6309, -4.0608, -4.0752, -4.4801, -4.6175, -4.6757, -4.673, -4.8469, -4.9445, -5.0077, -5.0713, -5.1451, -5.1567, -5.1475, -5.1923, -5.2215, -5.2993, -5.3363, -5.3086, -5.3385, -5.3729, -5.3977, -5.4254, -5.4495, -5.4605, -5.5622, -5.6526, -5.7135, -5.7396, -5.7826, -5.0208, -4.8737, -4.6114, -4.8139, -4.0771, -4.5574, -4.0966, -3.3041, -2.8468, -3.3865, -3.3307, -3.7529, -3.1381, -3.2611, -3.5744, -4.1437, -4.7906, -5.1013, -5.1276, -4.406, -4.4166, -4.5053, -4.6141, -4.8212, -4.941, -4.5565, -5.0744, -5.1112, -5.1199, -5.128, -5.1659, -5.1974, -5.2396, -5.2531, -5.2779, -5.2702, -5.2835, -5.3353, -5.4468, -5.4549, -5.4865, -5.4661, -5.4611, -5.5396, -5.5707, -5.5839, -5.5945, -5.5938, -5.6143, -4.5497, -4.0454, -4.1977, -5.2152, -5.4278, -4.7786, -4.926, -4.8139, -4.1152, -3.423, -3.2905, -4.5111, -3.2953, -3.9924, -3.6254, -4.855, -3.9185, -4.6851, -4.4126, -4.1786, -4.521, -4.5271, -4.5599, -4.8933, -4.8991, -3.7021, -3.7135, -3.9977, -4.0828, -4.1449, -4.2043, -4.5269, -4.636, -4.6891, -4.6814, -4.6763, -4.713, -4.7879, -4.7991, -4.7833, -4.8175, -4.834, -4.8571, -4.8571, -4.8571, -4.8571, -4.8571, -4.9438, -5.0476, -5.1099, -5.1286, -5.114, -5.1249, -5.165, -5.1672, -3.3973, -4.6752, -3.717, -4.2742, -4.3365, -3.1778, -3.5267, -3.7516, -3.3513, -3.6964, -4.0073, -3.8068, -4.581, -4.4767, -4.7022, -4.5805, -4.7013, -3.8335, -3.9023, -3.9729, -3.9839, -4.1381, -4.2287, -4.4731, -4.6183, -4.6175, -4.6754, -4.7036, -4.7177, -4.7508, -4.7487, -4.7763, -4.7859, -4.8575, -4.8957, -4.9774, -5.1564, -5.1917, -5.2105, -5.3108, -5.3623, -5.3724, -5.4232, -5.3854, -5.4755, -5.5312, -5.5456, -5.5431, -5.2318, -4.0087, -3.5228, -4.2429, -3.8377, -4.2972, -4.1914, -4.3941, -4.0112, -4.7673, -4.2436, -3.9634, -4.3285, -4.6118], \"loglift\": [30.0, 29.0, 28.0, 27.0, 26.0, 25.0, 24.0, 23.0, 22.0, 21.0, 20.0, 19.0, 18.0, 17.0, 16.0, 15.0, 14.0, 13.0, 12.0, 11.0, 10.0, 9.0, 8.0, 7.0, 6.0, 5.0, 4.0, 3.0, 2.0, 1.0, 1.003, 1.0029, 1.0028, 1.0027, 1.0023, 1.0023, 1.0021, 1.0021, 1.002, 1.002, 1.0019, 1.0018, 1.0018, 1.0017, 1.0017, 1.0016, 1.0015, 1.0015, 1.0014, 1.0012, 1.0011, 1.0011, 1.0011, 1.001, 1.001, 1.0009, 1.0009, 1.0008, 1.0008, 1.0008, 0.9975, 0.9628, 0.959, 0.9528, 0.8949, 0.9786, 0.9401, 0.7556, 0.9573, 0.2871, 0.6776, 0.4518, 0.4099, 0.2673, 0.3827, 0.232, 0.0621, 0.0452, 0.2402, 0.798, 0.5255, 0.5134, -0.3585, 0.0806, -0.3234, 0.2174, 0.4424, 0.1353, -0.102, 1.472, 1.4718, 1.4718, 1.4716, 1.4714, 1.4714, 1.4714, 1.4712, 1.471, 1.471, 1.4709, 1.4708, 1.4708, 1.4708, 1.4708, 1.4707, 1.4706, 1.4705, 1.4705, 1.4705, 1.4705, 1.4704, 1.4703, 1.4703, 1.4701, 1.4701, 1.4698, 1.4697, 1.4696, 1.4695, 1.4681, 1.4572, 1.399, 1.4044, 1.3357, 1.3803, 1.2191, 0.9108, 0.3595, 0.5499, 0.4398, 0.5147, 0.1315, 0.07, 0.2527, 0.0842, 0.6704, 1.2201, 1.0318, 1.7073, 1.7073, 1.7072, 1.707, 1.7069, 1.7067, 1.7065, 1.7064, 1.7064, 1.7064, 1.7064, 1.7063, 1.7062, 1.7062, 1.7061, 1.7061, 1.7061, 1.7061, 1.7059, 1.7057, 1.7057, 1.7056, 1.7056, 1.7055, 1.7054, 1.7054, 1.7054, 1.7053, 1.7053, 1.7052, 1.7014, 1.6342, 1.5881, 1.6743, 1.688, 1.5832, 1.5794, 1.4767, 1.0503, 0.5134, -0.0209, 0.9499, -0.0891, 0.2754, -0.2943, 1.2055, -0.1171, 0.8617, 0.433, 0.0494, 0.5926, 0.4605, -0.1474, 0.7391, -1.0721, 2.0132, 2.0132, 2.013, 2.013, 2.0129, 2.0129, 2.0125, 2.0123, 2.0123, 2.0123, 2.0123, 2.0123, 2.0122, 2.0121, 2.0121, 2.0121, 2.0121, 2.012, 2.012, 2.012, 2.012, 2.012, 2.0119, 2.0116, 2.0115, 2.0115, 2.0114, 2.0114, 2.0114, 2.0114, 1.5563, 1.8771, 1.2707, 1.4374, 1.4437, 0.0919, 0.3003, 0.5162, -0.145, 0.0741, 0.2075, -0.4757, 1.0643, 0.6369, 1.2957, -0.3525, 0.8587, 2.4151, 2.415, 2.4149, 2.4149, 2.4147, 2.4146, 2.4141, 2.4139, 2.4139, 2.4138, 2.4137, 2.4136, 2.4136, 2.4136, 2.4135, 2.4134, 2.4133, 2.4132, 2.4127, 2.4123, 2.4122, 2.4121, 2.4117, 2.4115, 2.4114, 2.4112, 2.411, 2.411, 2.4107, 2.4105, 2.4105, 2.3864, 2.1859, 2.0371, 2.0929, 1.9665, 1.9918, 1.9387, 1.8494, 0.9764, 1.5961, 0.602, -0.6323, -1.0588, -0.1993]}, \"token.table\": {\"Topic\": [5, 1, 2, 2, 4, 1, 2, 3, 4, 1, 4, 2, 5, 2, 3, 2, 3, 5, 5, 2, 2, 3, 4, 5, 1, 3, 1, 2, 3, 4, 5, 3, 4, 5, 2, 2, 1, 2, 4, 2, 3, 2, 2, 1, 5, 4, 3, 1, 3, 3, 4, 3, 1, 3, 4, 1, 2, 5, 2, 4, 1, 2, 3, 4, 1, 2, 1, 2, 4, 4, 3, 4, 1, 1, 4, 2, 1, 3, 1, 1, 3, 3, 3, 5, 3, 4, 2, 5, 4, 2, 5, 2, 2, 3, 3, 3, 1, 2, 3, 4, 5, 2, 2, 4, 1, 5, 4, 1, 2, 1, 2, 3, 1, 5, 1, 2, 4, 1, 4, 2, 1, 2, 4, 5, 4, 1, 3, 3, 4, 1, 2, 3, 5, 3, 2, 4, 1, 3, 4, 2, 5, 1, 2, 3, 1, 2, 5, 2, 3, 5, 5, 3, 4, 3, 1, 3, 3, 2, 1, 4, 5, 5, 5, 1, 1, 2, 3, 2, 2, 5, 4, 2, 1, 2, 4, 3, 4, 1, 5, 1, 2, 3, 4, 1, 2, 3, 4, 5, 1, 4, 1, 2, 4, 1, 1, 4, 1, 1, 4, 1, 3, 1, 2, 5, 3, 5, 3, 2, 5, 1, 2, 1, 2, 3, 4, 5, 5, 1, 2, 3, 4, 2, 3, 4, 5, 3, 4, 1, 1, 5, 4, 5, 1, 3, 1, 4, 3, 2, 3, 3, 4, 4, 5, 1, 2, 3, 4, 5, 2, 3, 1, 4, 5, 1, 2, 3, 4, 5, 1, 5, 4, 5, 4, 1, 3, 4, 1, 1, 2, 3, 4, 2, 3, 3, 3, 5, 1, 3, 5, 3, 5, 1, 3, 5, 2, 4, 1, 3, 1, 5, 2, 2, 3, 1, 4, 3, 5, 3, 4, 1, 4, 4, 3, 4, 5, 3, 4, 5, 5, 4, 4, 1, 3, 4, 3, 5], \"Freq\": [0.9976957517062925, 0.014466042499674628, 0.9848963935195143, 0.9995085966542536, 0.9985305512159797, 0.4661887190324246, 0.24950738198925157, 0.19033217988914589, 0.09376767098947095, 0.6127688694432054, 0.386852100926979, 0.4319360262171739, 0.5678135996819115, 0.9984170657657667, 0.9983540030599877, 0.11913967108310337, 0.8784756470224008, 0.9950839331972363, 0.9967756299777177, 0.9976873542612059, 0.44857060910950325, 0.4682713453203936, 0.07779265067890034, 0.005556617905635738, 0.6199855037591112, 0.37954625133415615, 0.5760621138326826, 0.11082202927451115, 0.15631925215558043, 0.08355910194499883, 0.07311421420187397, 0.22356061156450902, 0.1388354116403798, 0.6379309170757964, 0.9992580581732196, 0.9986062932400064, 0.721792597747924, 0.2775390465198834, 0.997436373334468, 0.20610606386196942, 0.7931609760980284, 0.9983157752108358, 0.9991279683518507, 0.9978054835552627, 0.998834647647303, 0.997436373334468, 0.9973219760326288, 0.9382625081138958, 0.060688437383137, 0.9988405253889794, 0.9975089303324095, 0.9969698038889069, 0.45559244569210955, 0.5179920710921839, 0.02631309504822415, 0.9973907967044333, 0.27503419490610254, 0.7233278165592213, 0.12636887808377317, 0.8725470153403386, 0.46233377973222, 0.2953415786946122, 0.06200595894489688, 0.18020173760138553, 0.07000272661066213, 0.9292861957565398, 0.22320856730298408, 0.7762067007776962, 0.9964642044924201, 0.9981039432749215, 0.8828778308150226, 0.11688805084029875, 0.997462425277357, 0.9982737815201564, 0.9983446141348328, 0.9975064546838784, 0.9992674003586383, 0.9988457288474244, 0.9977294486580682, 0.9964881434473157, 0.9984824115028577, 0.9958461105859631, 0.9982315192763976, 0.9986158662133513, 0.9982891158620986, 0.9990474786749081, 0.9991285666593315, 0.99933759546551, 0.9985502959265085, 0.9973687657539433, 0.9937706826442949, 0.9985888133173111, 0.9991070329427062, 0.998369338023849, 0.9967950554959787, 0.9979016911004958, 0.39746991921340397, 0.06606299481431577, 0.2792662962605167, 0.09390772816580424, 0.16297358638077072, 0.9967560077033878, 0.9970913913091692, 0.9978457593959986, 0.9987918385019682, 0.9984729120003457, 0.9989133513256104, 0.954135766656951, 0.04400995233657523, 0.9974643281539257, 0.9121242479437889, 0.08706270698482195, 0.9986457482834731, 0.9987629644637008, 0.34270056543057925, 0.09106242205153323, 0.5658382561064736, 0.9990292075822563, 0.9996019482009518, 0.9981408655972537, 0.9985102396458828, 0.9992700670510362, 0.9981091310534096, 0.9992776313005082, 0.997436373334468, 0.5707717791890322, 0.42876684280448996, 0.9928884459962589, 0.005565518195046294, 0.5524053841545192, 0.3837892688359371, 0.017612037476509485, 0.04609759374286396, 0.9984239428007472, 0.9996055531068199, 0.9994813665671093, 0.5376589525646513, 0.23865317609564865, 0.22364161559669257, 0.9997507029293081, 0.9985425482543843, 0.9603412082415852, 0.007311151159922502, 0.03225507864671692, 0.9506725839948232, 0.04882010493797149, 0.9991921180369576, 0.7774725307481366, 0.2221350087851819, 0.9969506148018694, 0.9984845187754692, 0.9979445490069275, 0.9992828727001806, 0.9984547723820504, 0.03161305647166713, 0.9673595280330141, 0.996510604664192, 0.9984578448503914, 0.9989673178523129, 0.9990306938833804, 0.9976116238911922, 0.994817759099219, 0.9967343990706959, 0.9978926854009523, 0.12755598118937725, 0.8721941053401947, 0.9987350125371638, 0.9979805552039414, 0.999525974946913, 0.9920711071832815, 0.9987791830562982, 0.9971181218706154, 0.998229755504516, 0.9993931613507905, 0.9980407565920875, 0.9985115779197735, 0.997436373334468, 0.34450610616216076, 0.6543303895563188, 0.9992402558644433, 0.6438583170985311, 0.353411189826954, 0.002031098792108931, 0.25623287684288587, 0.39754585827769634, 0.30275069096500634, 0.04343862075233473, 0.9957983355476722, 0.9948994768520029, 0.005146031776820705, 0.26528423895855385, 0.5703756419229368, 0.16431351273938907, 0.9969197545457571, 0.9979332986170397, 0.9996391869201654, 0.9982212216781455, 0.9963563832371349, 0.9995037137887688, 0.8972649384688232, 0.10261418578143754, 0.9994722122334355, 0.9982702593911453, 0.9946431052149922, 0.9805082822462406, 0.018500156268796992, 0.9991691342047881, 0.9989484046921967, 0.9969551393540512, 0.998057814381324, 0.9982650492177426, 0.3836168936680479, 0.2616159948870837, 0.17744045574667763, 0.14633333162436793, 0.030937756840337047, 0.9989577892652739, 0.47902275901987623, 0.35605308925981466, 0.0211470568451015, 0.1437440912422538, 0.9339644457925078, 0.010772369616983942, 0.05386184808491971, 0.9960912088876109, 0.9982721657018507, 0.9974947334071727, 0.9976907572424822, 0.9992775981032838, 0.997914673635743, 0.9966695723020532, 0.9978452531011484, 0.9982080880419284, 0.9983472547129403, 0.9753127513742142, 0.02367263959646151, 0.9991453287374469, 0.9988035081176149, 0.9992590683689777, 0.8870029162407881, 0.11253543696987146, 0.997436373334468, 0.9960421632761087, 0.39015400821417456, 0.3286344097438966, 0.1657478932084664, 0.11546184760270085, 0.9957147538473254, 0.9965020310134289, 0.9977335696039891, 0.33116133941975573, 0.6328252959894506, 0.035883414188733864, 0.4885740234851082, 0.24602805950380602, 0.13502125569157142, 0.08296993124310881, 0.04742854246169027, 0.5591702639995818, 0.440860297229069, 0.315094352620109, 0.6848422389690156, 0.9988125641114508, 0.4196847094179643, 0.3276110231681048, 0.2523104503048476, 0.9984311040319713, 0.780561459357729, 0.048040464017585494, 0.16122379724301691, 0.010184578371728124, 0.9984981599882768, 0.9976004402417974, 0.997717272741634, 0.9978938388565437, 0.9982349984000056, 0.814252527558022, 0.18476920536355562, 0.997047845630081, 0.9974971938215236, 0.9938624220850156, 0.9995657621224243, 0.2051403876264452, 0.7942615008100827, 0.5115366753749673, 0.4873423731612864, 0.9996920677229567, 0.9988620917341, 0.9563993966016052, 0.04257942519116736, 0.9979298004404396, 0.9954421880429049, 0.002823949469625262, 0.43739902195807906, 0.5619993368185408, 0.026207086185031234, 0.9696621888461556, 0.6052955960709145, 0.3946380102042893, 0.998954323936878, 0.9979472432435956, 0.998227354020379, 0.2872875144179662, 0.4757707796275628, 0.2369414001716632, 0.27120062329909733, 0.10848024931963894, 0.6203097892913899, 0.9966886921145487, 0.9994818901140893, 0.9968131271584986, 0.9985257473260601, 0.9289570174773908, 0.07102310079495612, 0.9979835821894101, 0.0011263923049541875], \"Term\": [\"160\", \"3\", \"3\", \"4th\", \"5\", \"a\", \"a\", \"a\", \"a\", \"about\", \"about\", \"after\", \"after\", \"again\", \"against\", \"all\", \"all\", \"already\", \"america\", \"amid\", \"amp\", \"amp\", \"amp\", \"amp\", \"an\", \"an\", \"and\", \"and\", \"and\", \"and\", \"and\", \"are\", \"are\", \"are\", \"army\", \"around\", \"as\", \"as\", \"ashawo\", \"at\", \"at\", \"attack\", \"august\", \"authorities\", \"baddecisions\", \"balogun\", \"based\", \"be\", \"be\", \"because\", \"been\", \"biden\", \"by\", \"by\", \"by\", \"called\", \"ccp\", \"ccp\", \"check\", \"check\", \"china\", \"china\", \"china\", \"china\", \"chinataiwancrisis\", \"chinataiwancrisis\", \"chinese\", \"chinese\", \"coincidence\", \"could\", \"country\", \"country\", \"crisis\", \"d\", \"david\", \"day\", \"dead\", \"delegation\", \"democracy\", \"democratic\", \"democrats\", \"deputy\", \"did\", \"do\", \"does\", \"don\", \"drills\", \"drones\", \"easily\", \"entered\", \"europe\", \"exercises\", \"fired\", \"firm\", \"followed\", \"foot\", \"for\", \"for\", \"for\", \"for\", \"for\", \"forces\", \"foreign\", \"forget\", \"found\", \"fulliv\", \"funny\", \"gaza\", \"gaza\", \"gazaunderattack\", \"good\", \"good\", \"government\", \"had\", \"has\", \"has\", \"has\", \"have\", \"her\", \"high\", \"his\", \"hotel\", \"house\", \"how\", \"hundeyin\", \"i\", \"i\", \"if\", \"if\", \"in\", \"in\", \"in\", \"in\", \"independent\", \"info\", \"infographic\", \"is\", \"is\", \"is\", \"island\", \"israel\", \"it\", \"it\", \"it\", \"its\", \"its\", \"japan\", \"just\", \"just\", \"key\", \"kinmen\", \"know\", \"launches\", \"li\", \"like\", \"like\", \"lithuania\", \"live\", \"m\", \"madam\", \"make\", \"many\", \"matter\", \"maybe\", \"military\", \"military\", \"minister\", \"ministry\", \"missile\", \"most\", \"nancy\", \"nancypelosi\", \"national\", \"near\", \"never\", \"nicaragua\", \"nigerians\", \"no\", \"no\", \"not\", \"now\", \"now\", \"now\", \"of\", \"of\", \"of\", \"of\", \"off\", \"official\", \"official\", \"on\", \"on\", \"on\", \"or\", \"our\", \"out\", \"own\", \"palestinian\", \"part\", \"pelosi\", \"pelosi\", \"people\", \"pla\", \"policy\", \"political\", \"political\", \"president\", \"programme\", \"record\", \"responsible\", \"restricted\", \"rt\", \"rt\", \"rt\", \"rt\", \"rt\", \"russia\", \"s\", \"s\", \"s\", \"s\", \"said\", \"said\", \"said\", \"sanction\", \"says\", \"set\", \"she\", \"should\", \"show\", \"situation\", \"small\", \"so\", \"somalia\", \"speaker\", \"speaker\", \"speech\", \"strait\", \"support\", \"t\", \"t\", \"tafa\", \"taipei\", \"taiwan\", \"taiwan\", \"taiwan\", \"taiwan\", \"taiwanchina\", \"tension\", \"than\", \"that\", \"that\", \"that\", \"the\", \"the\", \"the\", \"the\", \"the\", \"their\", \"their\", \"they\", \"they\", \"thing\", \"this\", \"this\", \"this\", \"time\", \"to\", \"to\", \"to\", \"to\", \"travel\", \"trip\", \"tv\", \"u\", \"uk\", \"ukraine\", \"ukraine\", \"ukrainianarmy\", \"united\", \"unitedstates\", \"us\", \"usa\", \"usa\", \"video\", \"video\", \"visit\", \"war\", \"was\", \"was\", \"watch\", \"waters\", \"waters\", \"we\", \"we\", \"western\", \"western\", \"what\", \"what\", \"when\", \"where\", \"why\", \"with\", \"with\", \"with\", \"world\", \"world\", \"world\", \"would\", \"wwiii\", \"x\", \"xijinping\", \"you\", \"you\", \"your\", \"your\"]}, \"R\": 30, \"lambda.step\": 0.01, \"plot.opts\": {\"xlab\": \"PC1\", \"ylab\": \"PC2\"}, \"topic.order\": [5, 4, 2, 1, 3]};\n",
       "\n",
       "function LDAvis_load_lib(url, callback){\n",
       "  var s = document.createElement('script');\n",
       "  s.src = url;\n",
       "  s.async = true;\n",
       "  s.onreadystatechange = s.onload = callback;\n",
       "  s.onerror = function(){console.warn(\"failed to load library \" + url);};\n",
       "  document.getElementsByTagName(\"head\")[0].appendChild(s);\n",
       "}\n",
       "\n",
       "if(typeof(LDAvis) !== \"undefined\"){\n",
       "   // already loaded: just create the visualization\n",
       "   !function(LDAvis){\n",
       "       new LDAvis(\"#\" + \"ldavis_el482026939030920805881383665\", ldavis_el482026939030920805881383665_data);\n",
       "   }(LDAvis);\n",
       "}else if(typeof define === \"function\" && define.amd){\n",
       "   // require.js is available: use it to load d3/LDAvis\n",
       "   require.config({paths: {d3: \"https://d3js.org/d3.v5\"}});\n",
       "   require([\"d3\"], function(d3){\n",
       "      window.d3 = d3;\n",
       "      LDAvis_load_lib(\"https://cdn.jsdelivr.net/gh/bmabey/pyLDAvis@3.3.1/pyLDAvis/js/ldavis.v3.0.0.js\", function(){\n",
       "        new LDAvis(\"#\" + \"ldavis_el482026939030920805881383665\", ldavis_el482026939030920805881383665_data);\n",
       "      });\n",
       "    });\n",
       "}else{\n",
       "    // require.js not available: dynamically load d3 & LDAvis\n",
       "    LDAvis_load_lib(\"https://d3js.org/d3.v5.js\", function(){\n",
       "         LDAvis_load_lib(\"https://cdn.jsdelivr.net/gh/bmabey/pyLDAvis@3.3.1/pyLDAvis/js/ldavis.v3.0.0.js\", function(){\n",
       "                 new LDAvis(\"#\" + \"ldavis_el482026939030920805881383665\", ldavis_el482026939030920805881383665_data);\n",
       "            })\n",
       "         });\n",
       "}\n",
       "</script>"
      ],
      "text/plain": [
       "PreparedData(topic_coordinates=              x         y  topics  cluster       Freq\n",
       "topic                                                \n",
       "4     -0.137023  0.015274       1        1  36.664808\n",
       "3     -0.152168 -0.219520       2        1  22.939318\n",
       "1     -0.046573  0.253279       3        1  18.120094\n",
       "0     -0.041027  0.002487       4        1  13.348463\n",
       "2      0.376791 -0.051521       5        1   8.927318, topic_info=      Term          Freq         Total Category  logprob  loglift\n",
       "29    info   2832.000000   2832.000000  Default  30.0000  30.0000\n",
       "131   that   3288.000000   3288.000000  Default  29.0000  29.0000\n",
       "111     on   6883.000000   6883.000000  Default  28.0000  28.0000\n",
       "58      to  10407.000000  10407.000000  Default  27.0000  27.0000\n",
       "234   with   3178.000000   3178.000000  Default  26.0000  26.0000\n",
       "..     ...           ...           ...      ...      ...      ...\n",
       "446  their    353.666333    802.975460   Topic5  -4.7673   1.5961\n",
       "28     for    597.082058   3663.170292   Topic5  -4.2436   0.6020\n",
       "19     the    790.178552  16656.636679   Topic5  -3.9634  -0.6323\n",
       "15      rt    548.487646  17712.984262   Topic5  -4.3285  -1.0588\n",
       "118    and    413.165622   5648.696420   Topic5  -4.6118  -0.1993\n",
       "\n",
       "[285 rows x 6 columns], token_table=      Topic      Freq       Term\n",
       "term                            \n",
       "439       5  0.997696        160\n",
       "281       1  0.014466          3\n",
       "281       2  0.984896          3\n",
       "177       2  0.999509        4th\n",
       "748       4  0.998531          5\n",
       "...     ...       ...        ...\n",
       "60        1  0.998526  xijinping\n",
       "81        3  0.928957        you\n",
       "81        4  0.071023        you\n",
       "532       3  0.997984       your\n",
       "532       5  0.001126       your\n",
       "\n",
       "[316 rows x 3 columns], R=30, lambda_step=0.01, plot_opts={'xlab': 'PC1', 'ylab': 'PC2'}, topic_order=[5, 4, 2, 1, 3])"
      ]
     },
     "execution_count": 179,
     "metadata": {},
     "output_type": "execute_result"
    }
   ],
   "source": [
    "import pyLDAvis.gensim_models as gensimvis\n",
    "import pickle \n",
    "import pyLDAvis\n",
    "# Visualize the topics\n",
    "pyLDAvis.enable_notebook()\n",
    "\n",
    "LDAvis_prepared = gensimvis.prepare(lda_model, corpus, id2word)\n",
    "LDAvis_prepared"
   ]
  },
  {
   "cell_type": "code",
   "execution_count": 181,
   "id": "980cb416",
   "metadata": {},
   "outputs": [],
   "source": [
    "# Sentiment Analysis\n",
    "import nltk"
   ]
  },
  {
   "cell_type": "code",
   "execution_count": 182,
   "id": "056094da",
   "metadata": {},
   "outputs": [],
   "source": [
    "# plot params\n",
    "plot_size = plt.rcParams[\"figure.figsize\"] \n",
    "plot_size[0] = 8\n",
    "plot_size[1] = 6\n",
    "plt.rcParams[\"figure.figsize\"] = plot_size "
   ]
  },
  {
   "cell_type": "code",
   "execution_count": null,
   "id": "0d6c8d4f",
   "metadata": {},
   "outputs": [],
   "source": [
    "# Distribution of sentiments across all the tweets.\n",
    "sns.set(rc={'figure.figsize':(14,10)})\n",
    "cleanedTweet.sentiment.value_counts().plot(kind='pie', autopct='%1.0f%%', colors=[\"red\", \"yellow\", \"green\"])"
   ]
  }
 ],
 "metadata": {
  "kernelspec": {
   "display_name": "Python 3 (ipykernel)",
   "language": "python",
   "name": "python3"
  },
  "language_info": {
   "codemirror_mode": {
    "name": "ipython",
    "version": 3
   },
   "file_extension": ".py",
   "mimetype": "text/x-python",
   "name": "python",
   "nbconvert_exporter": "python",
   "pygments_lexer": "ipython3",
   "version": "3.9.12"
  }
 },
 "nbformat": 4,
 "nbformat_minor": 5
}
