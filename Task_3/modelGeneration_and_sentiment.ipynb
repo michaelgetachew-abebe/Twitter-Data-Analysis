{
 "cells": [
  {
   "cell_type": "code",
   "execution_count": 102,
   "id": "d193ab20",
   "metadata": {},
   "outputs": [
    {
     "name": "stderr",
     "output_type": "stream",
     "text": [
      "[nltk_data] Downloading package stopwords to\n",
      "[nltk_data]     C:\\Users\\mikyg\\AppData\\Roaming\\nltk_data...\n",
      "[nltk_data]   Package stopwords is already up-to-date!\n"
     ]
    }
   ],
   "source": [
    "import pandas as pd\n",
    "import re\n",
    "from wordcloud import STOPWORDS,WordCloud\n",
    "import nltk\n",
    "nltk.download('stopwords')\n",
    "from nltk.corpus import stopwords\n",
    "stop = stopwords.words('english')"
   ]
  },
  {
   "cell_type": "code",
   "execution_count": 103,
   "id": "30894acc",
   "metadata": {},
   "outputs": [],
   "source": [
    "# taking a csv file path and reading a dataframe\n",
    "\n",
    "def read_proccessed_data(csv_path):\n",
    "    try:    \n",
    "        df = pd.read_csv(csv_path)\n",
    "        print(\"file is succesfully read\")\n",
    "        return df\n",
    "    \n",
    "    except FileNotFoundError:\n",
    "        print(\"file not found\")"
   ]
  },
  {
   "cell_type": "code",
   "execution_count": 104,
   "id": "04b6ac51",
   "metadata": {},
   "outputs": [
    {
     "name": "stdout",
     "output_type": "stream",
     "text": [
      "file is succesfully read\n"
     ]
    }
   ],
   "source": [
    "df = read_proccessed_data('cleaned_tweets.csv')"
   ]
  },
  {
   "cell_type": "code",
   "execution_count": 105,
   "id": "26f767fe",
   "metadata": {},
   "outputs": [
    {
     "name": "stdout",
     "output_type": "stream",
     "text": [
      "<class 'pandas.core.frame.DataFrame'>\n",
      "RangeIndex: 21997 entries, 0 to 21996\n",
      "Data columns (total 16 columns):\n",
      " #   Column              Non-Null Count  Dtype  \n",
      "---  ------              --------------  -----  \n",
      " 0   created_at          21997 non-null  object \n",
      " 1   source              21997 non-null  object \n",
      " 2   original_text       21997 non-null  object \n",
      " 3   polarity            21997 non-null  float64\n",
      " 4   subjectivity        21997 non-null  float64\n",
      " 5   lang                21997 non-null  object \n",
      " 6   favorite_count      21997 non-null  int64  \n",
      " 7   retweet_count       17257 non-null  float64\n",
      " 8   original_author     21997 non-null  object \n",
      " 9   followers_count     21997 non-null  int64  \n",
      " 10  friends_count       21997 non-null  int64  \n",
      " 11  possibly_sensitive  0 non-null      float64\n",
      " 12  hashtags            19138 non-null  object \n",
      " 13  user_mentions       18695 non-null  object \n",
      " 14  place               12106 non-null  object \n",
      " 15  friends_count       21997 non-null  float64\n",
      "dtypes: float64(5), int64(3), object(8)\n",
      "memory usage: 2.7+ MB\n"
     ]
    }
   ],
   "source": [
    "# inspecting the columns\n",
    "df.info()"
   ]
  },
  {
   "cell_type": "code",
   "execution_count": 106,
   "id": "8d933f30",
   "metadata": {},
   "outputs": [
    {
     "data": {
      "text/plain": [
       " 0.000000    8982\n",
       "-0.100000     973\n",
       " 0.133333     782\n",
       " 0.050000     502\n",
       " 0.500000     502\n",
       "             ... \n",
       "-0.014773       1\n",
       " 0.478788       1\n",
       " 0.059375       1\n",
       " 0.010000       1\n",
       " 0.207143       1\n",
       "Name: polarity, Length: 829, dtype: int64"
      ]
     },
     "execution_count": 106,
     "metadata": {},
     "output_type": "execute_result"
    }
   ],
   "source": [
    "# inspecting the polarity column\n",
    "df['polarity']\n",
    "df['polarity'].value_counts()"
   ]
  },
  {
   "cell_type": "code",
   "execution_count": 107,
   "id": "d39ca7d5",
   "metadata": {},
   "outputs": [
    {
     "name": "stdout",
     "output_type": "stream",
     "text": [
      "Total null values in oringal_text column: 0\n",
      "Total null values in polarity cloumn: 0\n"
     ]
    }
   ],
   "source": [
    "# Check if there are any null values and print the sum\n",
    "total_null_inorginal_text = df['original_text'].isnull().sum()\n",
    "total_null_inpolarity = df['polarity'].isnull().sum()\n",
    "\n",
    "print(f'Total null values in oringal_text column: {total_null_inorginal_text}')\n",
    "print(f'Total null values in polarity cloumn: {total_null_inpolarity}')"
   ]
  },
  {
   "cell_type": "code",
   "execution_count": 108,
   "id": "d96c9093",
   "metadata": {},
   "outputs": [
    {
     "data": {
      "text/plain": [
       "en    21997\n",
       "Name: lang, dtype: int64"
      ]
     },
     "execution_count": 108,
     "metadata": {},
     "output_type": "execute_result"
    }
   ],
   "source": [
    "# Count the number of english language tweets\n",
    "df['lang'].value_counts()"
   ]
  },
  {
   "cell_type": "code",
   "execution_count": 110,
   "id": "16019a0f",
   "metadata": {},
   "outputs": [],
   "source": [
    "# Create cleanedTweet dataframe\n",
    "cleanedTweet = pd.DataFrame(columns = ['clean_text', 'polarity','subjectivity'])\n",
    "\n",
    "cleanedTweet['clean_text'] = df['original_text']\n",
    "cleanedTweet['polarity'] = df['polarity']\n",
    "cleanedTweet['subjectivity'] = df['subjectivity']\n",
    "cleanedTweet.dropna(inplace = True)"
   ]
  },
  {
   "cell_type": "code",
   "execution_count": 111,
   "id": "d0859c68",
   "metadata": {},
   "outputs": [
    {
     "data": {
      "text/plain": [
       "clean_text      0\n",
       "polarity        0\n",
       "subjectivity    0\n",
       "dtype: int64"
      ]
     },
     "execution_count": 111,
     "metadata": {},
     "output_type": "execute_result"
    }
   ],
   "source": [
    "#Check for null values in the new dataframe\n",
    "cleanedTweet.isnull().sum()"
   ]
  },
  {
   "cell_type": "code",
   "execution_count": 112,
   "id": "9fa98a65",
   "metadata": {},
   "outputs": [
    {
     "data": {
      "text/html": [
       "<div>\n",
       "<style scoped>\n",
       "    .dataframe tbody tr th:only-of-type {\n",
       "        vertical-align: middle;\n",
       "    }\n",
       "\n",
       "    .dataframe tbody tr th {\n",
       "        vertical-align: top;\n",
       "    }\n",
       "\n",
       "    .dataframe thead th {\n",
       "        text-align: right;\n",
       "    }\n",
       "</style>\n",
       "<table border=\"1\" class=\"dataframe\">\n",
       "  <thead>\n",
       "    <tr style=\"text-align: right;\">\n",
       "      <th></th>\n",
       "      <th>clean_text</th>\n",
       "      <th>polarity</th>\n",
       "      <th>subjectivity</th>\n",
       "    </tr>\n",
       "  </thead>\n",
       "  <tbody>\n",
       "    <tr>\n",
       "      <th>0</th>\n",
       "      <td>RT @i_ameztoy: Extra random image (I):\\n\\nLets...</td>\n",
       "      <td>-1.250000e-01</td>\n",
       "      <td>0.190625</td>\n",
       "    </tr>\n",
       "    <tr>\n",
       "      <th>1</th>\n",
       "      <td>RT @IndoPac_Info: #China's media explains the ...</td>\n",
       "      <td>-1.000000e-01</td>\n",
       "      <td>0.100000</td>\n",
       "    </tr>\n",
       "    <tr>\n",
       "      <th>2</th>\n",
       "      <td>China even cut off communication, they don't a...</td>\n",
       "      <td>0.000000e+00</td>\n",
       "      <td>0.000000</td>\n",
       "    </tr>\n",
       "    <tr>\n",
       "      <th>3</th>\n",
       "      <td>Putin to #XiJinping : I told you my friend, Ta...</td>\n",
       "      <td>1.000000e-01</td>\n",
       "      <td>0.350000</td>\n",
       "    </tr>\n",
       "    <tr>\n",
       "      <th>4</th>\n",
       "      <td>RT @ChinaUncensored: I’m sorry, I thought Taiw...</td>\n",
       "      <td>-6.938894e-18</td>\n",
       "      <td>0.556250</td>\n",
       "    </tr>\n",
       "    <tr>\n",
       "      <th>...</th>\n",
       "      <td>...</td>\n",
       "      <td>...</td>\n",
       "      <td>...</td>\n",
       "    </tr>\n",
       "    <tr>\n",
       "      <th>21992</th>\n",
       "      <td>RT @IndoPac_Info: A good infographic of #China...</td>\n",
       "      <td>7.000000e-01</td>\n",
       "      <td>0.600000</td>\n",
       "    </tr>\n",
       "    <tr>\n",
       "      <th>21993</th>\n",
       "      <td>RT @IndoPac_Info: A good infographic of #China...</td>\n",
       "      <td>7.000000e-01</td>\n",
       "      <td>0.600000</td>\n",
       "    </tr>\n",
       "    <tr>\n",
       "      <th>21994</th>\n",
       "      <td>@Reuters Thanks #Pelosi smart move.</td>\n",
       "      <td>2.071429e-01</td>\n",
       "      <td>0.421429</td>\n",
       "    </tr>\n",
       "    <tr>\n",
       "      <th>21995</th>\n",
       "      <td>RT @IndoPac_Info: #Taiwan people's Desire for ...</td>\n",
       "      <td>5.000000e-02</td>\n",
       "      <td>0.350000</td>\n",
       "    </tr>\n",
       "    <tr>\n",
       "      <th>21996</th>\n",
       "      <td>RT @IndoPac_Info: #Taiwan people's Desire for ...</td>\n",
       "      <td>5.000000e-02</td>\n",
       "      <td>0.350000</td>\n",
       "    </tr>\n",
       "  </tbody>\n",
       "</table>\n",
       "<p>21997 rows × 3 columns</p>\n",
       "</div>"
      ],
      "text/plain": [
       "                                              clean_text      polarity  \\\n",
       "0      RT @i_ameztoy: Extra random image (I):\\n\\nLets... -1.250000e-01   \n",
       "1      RT @IndoPac_Info: #China's media explains the ... -1.000000e-01   \n",
       "2      China even cut off communication, they don't a...  0.000000e+00   \n",
       "3      Putin to #XiJinping : I told you my friend, Ta...  1.000000e-01   \n",
       "4      RT @ChinaUncensored: I’m sorry, I thought Taiw... -6.938894e-18   \n",
       "...                                                  ...           ...   \n",
       "21992  RT @IndoPac_Info: A good infographic of #China...  7.000000e-01   \n",
       "21993  RT @IndoPac_Info: A good infographic of #China...  7.000000e-01   \n",
       "21994                @Reuters Thanks #Pelosi smart move.  2.071429e-01   \n",
       "21995  RT @IndoPac_Info: #Taiwan people's Desire for ...  5.000000e-02   \n",
       "21996  RT @IndoPac_Info: #Taiwan people's Desire for ...  5.000000e-02   \n",
       "\n",
       "       subjectivity  \n",
       "0          0.190625  \n",
       "1          0.100000  \n",
       "2          0.000000  \n",
       "3          0.350000  \n",
       "4          0.556250  \n",
       "...             ...  \n",
       "21992      0.600000  \n",
       "21993      0.600000  \n",
       "21994      0.421429  \n",
       "21995      0.350000  \n",
       "21996      0.350000  \n",
       "\n",
       "[21997 rows x 3 columns]"
      ]
     },
     "execution_count": 112,
     "metadata": {},
     "output_type": "execute_result"
    }
   ],
   "source": [
    "cleanedTweet"
   ]
  },
  {
   "cell_type": "code",
   "execution_count": 113,
   "id": "65319127",
   "metadata": {},
   "outputs": [
    {
     "name": "stderr",
     "output_type": "stream",
     "text": [
      "<>:3: DeprecationWarning: invalid escape sequence \\w\n",
      "<>:4: DeprecationWarning: invalid escape sequence \\(\n",
      "<>:3: DeprecationWarning: invalid escape sequence \\w\n",
      "<>:4: DeprecationWarning: invalid escape sequence \\(\n",
      "C:\\Users\\mikyg\\AppData\\Local\\Temp\\ipykernel_11084\\3313435368.py:3: DeprecationWarning: invalid escape sequence \\w\n",
      "  text = ' '.join(re.sub(\"(@[A-Za-z0-9]+)|([^0-9A-Za-z \\t])|(\\w+:\\/\\/\\S+)\",\" \",text).split())\n",
      "C:\\Users\\mikyg\\AppData\\Local\\Temp\\ipykernel_11084\\3313435368.py:4: DeprecationWarning: invalid escape sequence \\(\n",
      "  text = re.sub('http[s]?://(?:[a-zA-Z]|[0-9]|[$-_@.&+]|[!*\\(\\),]|(?:%[0-9a-fA-F][0-9a-fA-F]))+', '', text, flags=re.MULTILINE)\n"
     ]
    }
   ],
   "source": [
    "# Removal of unwanted characters from the tweet like @,#,links, mentions and RTs\n",
    "def tweetcleaner(text):\n",
    "    text = ' '.join(re.sub(\"(@[A-Za-z0-9]+)|([^0-9A-Za-z \\t])|(\\w+:\\/\\/\\S+)\",\" \",text).split())\n",
    "    text = re.sub('http[s]?://(?:[a-zA-Z]|[0-9]|[$-_@.&+]|[!*\\(\\),]|(?:%[0-9a-fA-F][0-9a-fA-F]))+', '', text, flags=re.MULTILINE)\n",
    "    text = re.sub(r'https?:\\/\\/\\S+', '', text)\n",
    "    text = re.sub(r'RT[\\S]+', '', text)\n",
    "    return text"
   ]
  },
  {
   "cell_type": "code",
   "execution_count": 114,
   "id": "84bb23ab",
   "metadata": {},
   "outputs": [
    {
     "data": {
      "text/html": [
       "<div>\n",
       "<style scoped>\n",
       "    .dataframe tbody tr th:only-of-type {\n",
       "        vertical-align: middle;\n",
       "    }\n",
       "\n",
       "    .dataframe tbody tr th {\n",
       "        vertical-align: top;\n",
       "    }\n",
       "\n",
       "    .dataframe thead th {\n",
       "        text-align: right;\n",
       "    }\n",
       "</style>\n",
       "<table border=\"1\" class=\"dataframe\">\n",
       "  <thead>\n",
       "    <tr style=\"text-align: right;\">\n",
       "      <th></th>\n",
       "      <th>clean_text</th>\n",
       "      <th>polarity</th>\n",
       "      <th>subjectivity</th>\n",
       "    </tr>\n",
       "  </thead>\n",
       "  <tbody>\n",
       "    <tr>\n",
       "      <th>0</th>\n",
       "      <td>RT ameztoy Extra random image I Lets focus in ...</td>\n",
       "      <td>-1.250000e-01</td>\n",
       "      <td>0.190625</td>\n",
       "    </tr>\n",
       "    <tr>\n",
       "      <th>1</th>\n",
       "      <td>RT Info China s media explains the military re...</td>\n",
       "      <td>-1.000000e-01</td>\n",
       "      <td>0.100000</td>\n",
       "    </tr>\n",
       "    <tr>\n",
       "      <th>2</th>\n",
       "      <td>China even cut off communication they don t an...</td>\n",
       "      <td>0.000000e+00</td>\n",
       "      <td>0.000000</td>\n",
       "    </tr>\n",
       "    <tr>\n",
       "      <th>3</th>\n",
       "      <td>Putin to XiJinping I told you my friend Taiwan...</td>\n",
       "      <td>1.000000e-01</td>\n",
       "      <td>0.350000</td>\n",
       "    </tr>\n",
       "    <tr>\n",
       "      <th>4</th>\n",
       "      <td>RT I m sorry I thought Taiwan was an independe...</td>\n",
       "      <td>-6.938894e-18</td>\n",
       "      <td>0.556250</td>\n",
       "    </tr>\n",
       "    <tr>\n",
       "      <th>...</th>\n",
       "      <td>...</td>\n",
       "      <td>...</td>\n",
       "      <td>...</td>\n",
       "    </tr>\n",
       "    <tr>\n",
       "      <th>21992</th>\n",
       "      <td>RT Info A good infographic of China s missile ...</td>\n",
       "      <td>7.000000e-01</td>\n",
       "      <td>0.600000</td>\n",
       "    </tr>\n",
       "    <tr>\n",
       "      <th>21993</th>\n",
       "      <td>RT Info A good infographic of China s missile ...</td>\n",
       "      <td>7.000000e-01</td>\n",
       "      <td>0.600000</td>\n",
       "    </tr>\n",
       "    <tr>\n",
       "      <th>21994</th>\n",
       "      <td>Thanks Pelosi smart move</td>\n",
       "      <td>2.071429e-01</td>\n",
       "      <td>0.421429</td>\n",
       "    </tr>\n",
       "    <tr>\n",
       "      <th>21995</th>\n",
       "      <td>RT Info Taiwan people s Desire for Unification...</td>\n",
       "      <td>5.000000e-02</td>\n",
       "      <td>0.350000</td>\n",
       "    </tr>\n",
       "    <tr>\n",
       "      <th>21996</th>\n",
       "      <td>RT Info Taiwan people s Desire for Unification...</td>\n",
       "      <td>5.000000e-02</td>\n",
       "      <td>0.350000</td>\n",
       "    </tr>\n",
       "  </tbody>\n",
       "</table>\n",
       "<p>21997 rows × 3 columns</p>\n",
       "</div>"
      ],
      "text/plain": [
       "                                              clean_text      polarity  \\\n",
       "0      RT ameztoy Extra random image I Lets focus in ... -1.250000e-01   \n",
       "1      RT Info China s media explains the military re... -1.000000e-01   \n",
       "2      China even cut off communication they don t an...  0.000000e+00   \n",
       "3      Putin to XiJinping I told you my friend Taiwan...  1.000000e-01   \n",
       "4      RT I m sorry I thought Taiwan was an independe... -6.938894e-18   \n",
       "...                                                  ...           ...   \n",
       "21992  RT Info A good infographic of China s missile ...  7.000000e-01   \n",
       "21993  RT Info A good infographic of China s missile ...  7.000000e-01   \n",
       "21994                           Thanks Pelosi smart move  2.071429e-01   \n",
       "21995  RT Info Taiwan people s Desire for Unification...  5.000000e-02   \n",
       "21996  RT Info Taiwan people s Desire for Unification...  5.000000e-02   \n",
       "\n",
       "       subjectivity  \n",
       "0          0.190625  \n",
       "1          0.100000  \n",
       "2          0.000000  \n",
       "3          0.350000  \n",
       "4          0.556250  \n",
       "...             ...  \n",
       "21992      0.600000  \n",
       "21993      0.600000  \n",
       "21994      0.421429  \n",
       "21995      0.350000  \n",
       "21996      0.350000  \n",
       "\n",
       "[21997 rows x 3 columns]"
      ]
     },
     "execution_count": 114,
     "metadata": {},
     "output_type": "execute_result"
    }
   ],
   "source": [
    "#Apply \"tweetcleaner\" over the data\n",
    "cleanedTweet['clean_text'] = cleanedTweet['clean_text'].apply(tweetcleaner)\n",
    "cleanedTweet"
   ]
  },
  {
   "cell_type": "code",
   "execution_count": 115,
   "id": "d92cd759",
   "metadata": {},
   "outputs": [
    {
     "name": "stderr",
     "output_type": "stream",
     "text": [
      "<>:2: DeprecationWarning: invalid escape sequence \\w\n",
      "<>:5: DeprecationWarning: invalid escape sequence \\w\n",
      "<>:2: DeprecationWarning: invalid escape sequence \\w\n",
      "<>:5: DeprecationWarning: invalid escape sequence \\w\n",
      "C:\\Users\\mikyg\\AppData\\Local\\Temp\\ipykernel_11084\\711455319.py:2: DeprecationWarning: invalid escape sequence \\w\n",
      "  cleanedTweet['clean_text'] = cleanedTweet['clean_text'].str.replace('[^\\w\\s]','')\n",
      "C:\\Users\\mikyg\\AppData\\Local\\Temp\\ipykernel_11084\\711455319.py:5: DeprecationWarning: invalid escape sequence \\w\n",
      "  cleanedTweet['clean_text'] = cleanedTweet['clean_text'].str.replace('\\w*\\d\\w*','')\n",
      "C:\\Users\\mikyg\\AppData\\Local\\Temp\\ipykernel_11084\\711455319.py:2: FutureWarning: The default value of regex will change from True to False in a future version.\n",
      "  cleanedTweet['clean_text'] = cleanedTweet['clean_text'].str.replace('[^\\w\\s]','')\n",
      "C:\\Users\\mikyg\\AppData\\Local\\Temp\\ipykernel_11084\\711455319.py:5: FutureWarning: The default value of regex will change from True to False in a future version.\n",
      "  cleanedTweet['clean_text'] = cleanedTweet['clean_text'].str.replace('\\w*\\d\\w*','')\n"
     ]
    },
    {
     "data": {
      "text/html": [
       "<div>\n",
       "<style scoped>\n",
       "    .dataframe tbody tr th:only-of-type {\n",
       "        vertical-align: middle;\n",
       "    }\n",
       "\n",
       "    .dataframe tbody tr th {\n",
       "        vertical-align: top;\n",
       "    }\n",
       "\n",
       "    .dataframe thead th {\n",
       "        text-align: right;\n",
       "    }\n",
       "</style>\n",
       "<table border=\"1\" class=\"dataframe\">\n",
       "  <thead>\n",
       "    <tr style=\"text-align: right;\">\n",
       "      <th></th>\n",
       "      <th>clean_text</th>\n",
       "      <th>polarity</th>\n",
       "      <th>subjectivity</th>\n",
       "    </tr>\n",
       "  </thead>\n",
       "  <tbody>\n",
       "    <tr>\n",
       "      <th>0</th>\n",
       "      <td>rt ameztoy extra random image i lets focus one...</td>\n",
       "      <td>-1.250000e-01</td>\n",
       "      <td>0.190625</td>\n",
       "    </tr>\n",
       "    <tr>\n",
       "      <th>1</th>\n",
       "      <td>rt info china media explains military reasons ...</td>\n",
       "      <td>-1.000000e-01</td>\n",
       "      <td>0.100000</td>\n",
       "    </tr>\n",
       "    <tr>\n",
       "      <th>2</th>\n",
       "      <td>china even cut communication anwer phonecalls ...</td>\n",
       "      <td>0.000000e+00</td>\n",
       "      <td>0.000000</td>\n",
       "    </tr>\n",
       "    <tr>\n",
       "      <th>3</th>\n",
       "      <td>putin xijinping i told friend taiwan vassal st...</td>\n",
       "      <td>1.000000e-01</td>\n",
       "      <td>0.350000</td>\n",
       "    </tr>\n",
       "    <tr>\n",
       "      <th>4</th>\n",
       "      <td>rt i sorry i thought taiwan independent countr...</td>\n",
       "      <td>-6.938894e-18</td>\n",
       "      <td>0.556250</td>\n",
       "    </tr>\n",
       "  </tbody>\n",
       "</table>\n",
       "</div>"
      ],
      "text/plain": [
       "                                          clean_text      polarity  \\\n",
       "0  rt ameztoy extra random image i lets focus one... -1.250000e-01   \n",
       "1  rt info china media explains military reasons ... -1.000000e-01   \n",
       "2  china even cut communication anwer phonecalls ...  0.000000e+00   \n",
       "3  putin xijinping i told friend taiwan vassal st...  1.000000e-01   \n",
       "4  rt i sorry i thought taiwan independent countr... -6.938894e-18   \n",
       "\n",
       "   subjectivity  \n",
       "0      0.190625  \n",
       "1      0.100000  \n",
       "2      0.000000  \n",
       "3      0.350000  \n",
       "4      0.556250  "
      ]
     },
     "execution_count": 115,
     "metadata": {},
     "output_type": "execute_result"
    }
   ],
   "source": [
    "cleanedTweet['clean_text'] = cleanedTweet['clean_text'].astype(str)\n",
    "cleanedTweet['clean_text'] = cleanedTweet['clean_text'].str.replace('[^\\w\\s]','')\n",
    "cleanedTweet['clean_text'] = cleanedTweet['clean_text'].apply(lambda x: \" \".join(x for x in x.split() if x not in stop))\n",
    "cleanedTweet['clean_text'] = cleanedTweet['clean_text'].apply(lambda x: \" \".join(x.lower() for x in x.split()))\n",
    "cleanedTweet['clean_text'] = cleanedTweet['clean_text'].str.replace('\\w*\\d\\w*','')\n",
    "cleanedTweet.head()"
   ]
  },
  {
   "cell_type": "code",
   "execution_count": 116,
   "id": "5ed78751",
   "metadata": {},
   "outputs": [],
   "source": [
    "#Gives Score of negative, positive or neutral based on their polarity\n",
    "def text_category(p: float) -> str:\n",
    "    if p > 0:\n",
    "        return \"positive\"\n",
    "    elif p == 0:\n",
    "        return \"neutral\"\n",
    "    else:\n",
    "        return \"negative\""
   ]
  },
  {
   "cell_type": "code",
   "execution_count": 117,
   "id": "fec19f7a",
   "metadata": {},
   "outputs": [
    {
     "data": {
      "text/plain": [
       "neutral     8982\n",
       "positive    8182\n",
       "negative    4833\n",
       "Name: score, dtype: int64"
      ]
     },
     "execution_count": 117,
     "metadata": {},
     "output_type": "execute_result"
    }
   ],
   "source": [
    "# creating score column by applying text_category\n",
    "cleanedTweet['score'] = cleanedTweet['polarity'].apply(text_category)\n",
    "cleanedTweet['score'].value_counts()"
   ]
  },
  {
   "cell_type": "code",
   "execution_count": 118,
   "id": "6186a6f2",
   "metadata": {},
   "outputs": [
    {
     "data": {
      "text/plain": [
       "<AxesSubplot:title={'center':'score'}>"
      ]
     },
     "execution_count": 118,
     "metadata": {},
     "output_type": "execute_result"
    },
    {
     "data": {
      "image/png": "[encoded data removed]",
      "text/plain": [
       "<Figure size 576x576 with 1 Axes>"
      ]
     },
     "metadata": {
      "needs_background": "light"
     },
     "output_type": "display_data"
    }
   ],
   "source": [
    "# Grouping the scores and plotting bar graph\n",
    "score_count =  cleanedTweet['score'].value_counts()\n",
    "score_count.plot(kind=\"bar\", y=\"score\", title=\"score\", figsize=[8, 8])"
   ]
  },
  {
   "cell_type": "code",
   "execution_count": 119,
   "id": "443b5c33",
   "metadata": {},
   "outputs": [
    {
     "data": {
      "text/plain": [
       "<AxesSubplot:title={'center':'Score'}, ylabel='score'>"
      ]
     },
     "execution_count": 119,
     "metadata": {},
     "output_type": "execute_result"
    },
    {
     "data": {
      "image/png": "[encoded data removed]",
      "text/plain": [
       "<Figure size 576x576 with 1 Axes>"
      ]
     },
     "metadata": {},
     "output_type": "display_data"
    }
   ],
   "source": [
    "score_count.plot(kind=\"pie\", y=\"score\", title=\"Score\", x=\"\", figsize=[8, 8])"
   ]
  },
  {
   "cell_type": "code",
   "execution_count": 120,
   "id": "cb7cb586",
   "metadata": {},
   "outputs": [],
   "source": [
    "# takes a string and returns if a value is \"neutral\"\n",
    "def remove_neutral(value):\n",
    "    return value != \"neutral\""
   ]
  },
  {
   "cell_type": "code",
   "execution_count": 121,
   "id": "be720ebe",
   "metadata": {},
   "outputs": [
    {
     "name": "stderr",
     "output_type": "stream",
     "text": [
      "C:\\Users\\mikyg\\AppData\\Local\\Temp\\ipykernel_11084\\3228358333.py:6: SettingWithCopyWarning: \n",
      "A value is trying to be set on a copy of a slice from a DataFrame.\n",
      "Try using .loc[row_indexer,col_indexer] = value instead\n",
      "\n",
      "See the caveats in the documentation: https://pandas.pydata.org/pandas-docs/stable/user_guide/indexing.html#returning-a-view-versus-a-copy\n",
      "  cleanedTweet['score_map'] = cleanedTweet[\"score\"].map( lambda score: 1 if score == \"positive\" else 0)\n"
     ]
    }
   ],
   "source": [
    "# creating score_map column\n",
    "# we remove all rows that have neutral score\n",
    "# then create a score_map. if score is \"positive\" it has value 1 else 0\n",
    "\n",
    "cleanedTweet = cleanedTweet[cleanedTweet['score'].map(remove_neutral)]\n",
    "cleanedTweet['score_map'] = cleanedTweet[\"score\"].map( lambda score: 1 if score == \"positive\" else 0)"
   ]
  },
  {
   "cell_type": "code",
   "execution_count": 122,
   "id": "9d8f7237",
   "metadata": {},
   "outputs": [],
   "source": [
    "from sklearn.feature_extraction.text import CountVectorizer, TfidfTransformer\n",
    "from joblib import dump, load # used for saving and loading sklearn objects\n",
    "from scipy.sparse import save_npz, load_npz # used for saving and loading sparse matrices\n",
    "from sklearn.decomposition import NMF, LatentDirichletAllocation\n",
    "from sklearn.linear_model import SGDClassifier\n",
    "from sklearn.model_selection import train_test_split"
   ]
  },
  {
   "cell_type": "code",
   "execution_count": 123,
   "id": "6126ead7",
   "metadata": {},
   "outputs": [],
   "source": [
    "# separating our input and output\n",
    "(X, y) = cleanedTweet['clean_text'], cleanedTweet['score_map']"
   ]
  },
  {
   "cell_type": "code",
   "execution_count": 124,
   "id": "0ba9b66d",
   "metadata": {},
   "outputs": [
    {
     "data": {
      "text/plain": [
       "CountVectorizer(ngram_range=(1, 3))"
      ]
     },
     "execution_count": 124,
     "metadata": {},
     "output_type": "execute_result"
    }
   ],
   "source": [
    "# creating CountVectorizer and fitting it\n",
    "trigram_vectorizer = CountVectorizer(ngram_range=(1, 3))\n",
    "trigram_vectorizer.fit(X.values)"
   ]
  },
  {
   "cell_type": "code",
   "execution_count": 125,
   "id": "7b5dc723",
   "metadata": {},
   "outputs": [],
   "source": [
    "# creating a tri_gram Vector representation for X\n",
    "X_trigram = trigram_vectorizer.transform(X.values)"
   ]
  },
  {
   "cell_type": "code",
   "execution_count": 126,
   "id": "be1850c2",
   "metadata": {},
   "outputs": [
    {
     "data": {
      "text/plain": [
       "TfidfTransformer()"
      ]
     },
     "execution_count": 126,
     "metadata": {},
     "output_type": "execute_result"
    }
   ],
   "source": [
    "# creating a trigram tfidf transformer\n",
    "trigram_tf_idf_transformer = TfidfTransformer()\n",
    "trigram_tf_idf_transformer.fit(X_trigram)"
   ]
  },
  {
   "cell_type": "code",
   "execution_count": 127,
   "id": "125b714c",
   "metadata": {},
   "outputs": [],
   "source": [
    "# creating a tfidf representation of x\n",
    "X_train_tf_idf = trigram_tf_idf_transformer.transform(X_trigram)"
   ]
  },
  {
   "cell_type": "code",
   "execution_count": 128,
   "id": "eac0d750",
   "metadata": {},
   "outputs": [],
   "source": [
    "# takes input as X, and ouput as Y, title of model as title\n",
    "# split the input to train and valid\n",
    "# use Stochastic Gradient Descent Classifier\n",
    "# train\n",
    "# out put the training score and validation score\n",
    "def train_and_show_scores(X, y, title: str) -> None:\n",
    "    X_train, X_valid, y_train, y_valid = train_test_split(\n",
    "        X, y, train_size=0.75, stratify=y\n",
    "    )\n",
    "\n",
    "    clf = SGDClassifier()\n",
    "    clf.fit(X_train, y_train)\n",
    "    train_score = clf.score(X_train, y_train)\n",
    "    valid_score = clf.score(X_valid, y_valid)\n",
    "    print(f'{title}\\nTrain score: {round(train_score, 2)} ; Validation score: {round(valid_score, 2)}\\n')"
   ]
  },
  {
   "cell_type": "code",
   "execution_count": 129,
   "id": "6a606493",
   "metadata": {},
   "outputs": [
    {
     "name": "stdout",
     "output_type": "stream",
     "text": [
      "trigram\n",
      "Train score: 1.0 ; Validation score: 0.94\n",
      "\n"
     ]
    }
   ],
   "source": [
    "# train using inputs vectorized as trigram\n",
    "train_and_show_scores(X_trigram, y, title=\"trigram\")"
   ]
  },
  {
   "cell_type": "code",
   "execution_count": 130,
   "id": "163fe127",
   "metadata": {},
   "outputs": [
    {
     "name": "stdout",
     "output_type": "stream",
     "text": [
      "trigram_tf_idf\n",
      "Train score: 1.0 ; Validation score: 0.94\n",
      "\n"
     ]
    }
   ],
   "source": [
    "# train using inputs vectorized as trigram_tfidf\n",
    "train_and_show_scores(X_train_tf_idf, y, title=\"trigram_tf_idf\")"
   ]
  },
  {
   "cell_type": "code",
   "execution_count": 131,
   "id": "dc5615e8",
   "metadata": {},
   "outputs": [],
   "source": [
    "#Topic Modeling\n",
    "import string\n",
    "import gensim\n",
    "from gensim.models import CoherenceModel\n",
    "from gensim import corpora\n",
    "from pprint import pprint\n",
    "import pyLDAvis\n",
    "import pyLDAvis.gensim_models"
   ]
  },
  {
   "cell_type": "code",
   "execution_count": 132,
   "id": "08be630d",
   "metadata": {},
   "outputs": [],
   "source": [
    "def remove_stopwords(sent: str) -> str:\n",
    "    sent_list = sent.split()\n",
    "    return ' '.join([word for word in sent_list if word not in STOPWORDS])"
   ]
  },
  {
   "cell_type": "code",
   "execution_count": 133,
   "id": "88454232",
   "metadata": {},
   "outputs": [],
   "source": [
    "class TopicModel:\n",
    "    \n",
    "    def __init__(self, tweet_df, num_of_topics):\n",
    "        self.df = tweet_df\n",
    "        self.num_of_topics = num_of_topics\n",
    "    \n",
    "    def extract_text_df(self):\n",
    "        self.df = pd.DataFrame(self.df['original_text']) \n",
    "        \n",
    "        return self.df\n",
    "    \n",
    "    \n",
    "    def further_pre_process(self):\n",
    "        \n",
    "        self.df['original_text']= df['original_text'].apply(lambda x: str(x).translate(str.maketrans(' ', ' ', string.punctuation))) \n",
    "        \n",
    "        self.df['original_text'] = self.df['original_text'].apply(remove_stopwords)\n",
    "        \n",
    "        return self.df\n",
    "    \n",
    "    def prepare_inputs(self):\n",
    "        \n",
    "        df = self.extract_text_df()\n",
    "        df = self.further_pre_process()\n",
    "        \n",
    "        sentence_list = [text for text in self.df['original_text']]\n",
    "        \n",
    "        word_list = [sent.split() for sent in sentence_list]\n",
    "        word_to_int = corpora.Dictionary(word_list)\n",
    "        \n",
    "        corpus = [word_to_int.doc2bow(tweet) for tweet in word_list]\n",
    "        \n",
    "        return word_list, word_to_int, corpus\n",
    "    \n",
    "    def lda_prepared(self, lda_model, corpus,  word_list):\n",
    "        pyLDAvis.enable_notebook()\n",
    "        LDAvis_prepared = pyLDAvis.gensim_models.prepare(lda_model, corpus, word_list)\n",
    "        return LDAvis_prepared\n",
    "            \n",
    "    def build(self, show_print=False):\n",
    "        word_list, word_to_int, corpus = self.prepare_inputs()\n",
    "        lda_model = gensim.models.ldamodel.LdaModel(\n",
    "            corpus, id2word=word_to_int,num_topics=self.num_of_topics, \n",
    "            random_state=100, update_every=1, \n",
    "            chunksize=100, passes=10, alpha='auto',\n",
    "            per_word_topics=True\n",
    "        )\n",
    "        \n",
    "        lda_prepared = self.lda_prepared(lda_model, corpus, word_to_int)\n",
    "        \n",
    "        \n",
    "        if show_print:\n",
    "            pprint(lda_model.print_topics())\n",
    "        \n",
    "        return lda_model, lda_prepared"
   ]
  },
  {
   "cell_type": "code",
   "execution_count": 134,
   "id": "c123b7c1",
   "metadata": {},
   "outputs": [
    {
     "name": "stdout",
     "output_type": "stream",
     "text": [
      "file is succesfully read\n"
     ]
    },
    {
     "name": "stderr",
     "output_type": "stream",
     "text": [
      "C:\\Users\\mikyg\\anaconda3\\lib\\site-packages\\pyLDAvis\\_prepare.py:246: FutureWarning: In a future version of pandas all arguments of DataFrame.drop except for the argument 'labels' will be keyword-only.\n",
      "  default_term_info = default_term_info.sort_values(\n"
     ]
    },
    {
     "name": "stdout",
     "output_type": "stream",
     "text": [
      "[(0,\n",
      "  '0.092*\"A\" + 0.081*\"missile\" + 0.052*\"good\" + 0.048*\"launches\" + 0.047*\"4th\" '\n",
      "  '+ 0.047*\"infographic\" + 0.045*\"IndoPacInfo\" + 0.044*\"RT\" + '\n",
      "  '0.031*\"httpstcoSTzRr9fhU5\" + 0.021*\"Maybe\"'),\n",
      " (1,\n",
      "  '0.086*\"Taiwan\" + 0.074*\"RT\" + 0.030*\"China\" + 0.025*\"Chinas\" + '\n",
      "  '0.025*\"military\" + 0.016*\"Taiwans\" + 0.016*\"August\" + 0.015*\"IndoPacInfo\" + '\n",
      "  '0.015*\"ChinaTaiwanCrisis\" + 0.013*\"drills\"'),\n",
      " (2,\n",
      "  '0.063*\"The\" + 0.015*\"China\" + 0.012*\"democratic\" + 0.010*\"Tensions\" + '\n",
      "  '0.010*\"Taiwan\" + 0.010*\"minister\" + 0.009*\"tension\" + 0.009*\"crisis\" + '\n",
      "  '0.009*\"ChinaTaiwan\" + 0.009*\"National\"'),\n",
      " (3,\n",
      "  '0.052*\"RT\" + 0.037*\"island\" + 0.028*\"Taiwan\" + 0.027*\"Chinese\" + '\n",
      "  '0.025*\"amp\" + 0.022*\"said\" + 0.019*\"waters\" + 0.019*\"3\" + 0.016*\"CCP\" + '\n",
      "  '0.016*\"China\"'),\n",
      " (4,\n",
      "  '0.047*\"RT\" + 0.029*\"Taiwan\" + 0.021*\"Ukraine\" + 0.017*\"Taiwan’s\" + '\n",
      "  '0.017*\"China\" + 0.015*\"near\" + 0.015*\"found\" + 0.014*\"dead\" + 0.012*\"Gaza\" '\n",
      "  '+ 0.011*\"people\"'),\n",
      " (5,\n",
      "  '0.055*\"Taiwan\" + 0.041*\"RT\" + 0.031*\"now\" + 0.030*\"WilliamYang120\" + '\n",
      "  '0.021*\"war\" + 0.020*\"SpeakerPelosi\" + 0.020*\"world\" + 0.017*\"Minister\" + '\n",
      "  '0.013*\"Beijing\" + 0.013*\"China\"'),\n",
      " (6,\n",
      "  '0.062*\"US\" + 0.053*\"China\" + 0.038*\"part\" + 0.035*\"RT\" + 0.025*\"Just\" + '\n",
      "  '0.024*\"exercises\" + 0.020*\"CGMeifangZhang\" + 0.019*\"thing\" + 0.019*\"Taiwan\" '\n",
      "  '+ 0.016*\"respond\"'),\n",
      " (7,\n",
      "  '0.075*\"RT\" + 0.052*\"Taiwan\" + 0.045*\"visit\" + 0.044*\"Pelosi\" + 0.029*\"US\" + '\n",
      "  '0.020*\"Pelosis\" + 0.017*\"This\" + 0.015*\"taiwan\" + 0.015*\"President\" + '\n",
      "  '0.012*\"We\"')]\n"
     ]
    }
   ],
   "source": [
    "path = \"cleaned_tweets.csv\"\n",
    "df = read_proccessed_data(path)\n",
    "tm = TopicModel(df, 8)\n",
    "lda_model, lda_prepared =tm.build(show_print=True)"
   ]
  },
  {
   "cell_type": "code",
   "execution_count": 135,
   "id": "2564f6d6",
   "metadata": {},
   "outputs": [
    {
     "data": {
      "text/html": [
       "<div>\n",
       "<style scoped>\n",
       "    .dataframe tbody tr th:only-of-type {\n",
       "        vertical-align: middle;\n",
       "    }\n",
       "\n",
       "    .dataframe tbody tr th {\n",
       "        vertical-align: top;\n",
       "    }\n",
       "\n",
       "    .dataframe thead th {\n",
       "        text-align: right;\n",
       "    }\n",
       "</style>\n",
       "<table border=\"1\" class=\"dataframe\">\n",
       "  <thead>\n",
       "    <tr style=\"text-align: right;\">\n",
       "      <th></th>\n",
       "      <th>clean_text</th>\n",
       "      <th>polarity</th>\n",
       "      <th>subjectivity</th>\n",
       "      <th>score</th>\n",
       "      <th>score_map</th>\n",
       "    </tr>\n",
       "  </thead>\n",
       "  <tbody>\n",
       "    <tr>\n",
       "      <th>0</th>\n",
       "      <td>rt ameztoy extra random image i lets focus one...</td>\n",
       "      <td>-1.250000e-01</td>\n",
       "      <td>0.190625</td>\n",
       "      <td>negative</td>\n",
       "      <td>0</td>\n",
       "    </tr>\n",
       "    <tr>\n",
       "      <th>1</th>\n",
       "      <td>rt info china media explains military reasons ...</td>\n",
       "      <td>-1.000000e-01</td>\n",
       "      <td>0.100000</td>\n",
       "      <td>negative</td>\n",
       "      <td>0</td>\n",
       "    </tr>\n",
       "    <tr>\n",
       "      <th>3</th>\n",
       "      <td>putin xijinping i told friend taiwan vassal st...</td>\n",
       "      <td>1.000000e-01</td>\n",
       "      <td>0.350000</td>\n",
       "      <td>positive</td>\n",
       "      <td>1</td>\n",
       "    </tr>\n",
       "    <tr>\n",
       "      <th>4</th>\n",
       "      <td>rt i sorry i thought taiwan independent countr...</td>\n",
       "      <td>-6.938894e-18</td>\n",
       "      <td>0.556250</td>\n",
       "      <td>negative</td>\n",
       "      <td>0</td>\n",
       "    </tr>\n",
       "    <tr>\n",
       "      <th>5</th>\n",
       "      <td>rt we must let happen we must ready we must de...</td>\n",
       "      <td>2.000000e-01</td>\n",
       "      <td>0.500000</td>\n",
       "      <td>positive</td>\n",
       "      <td>1</td>\n",
       "    </tr>\n",
       "  </tbody>\n",
       "</table>\n",
       "</div>"
      ],
      "text/plain": [
       "                                          clean_text      polarity  \\\n",
       "0  rt ameztoy extra random image i lets focus one... -1.250000e-01   \n",
       "1  rt info china media explains military reasons ... -1.000000e-01   \n",
       "3  putin xijinping i told friend taiwan vassal st...  1.000000e-01   \n",
       "4  rt i sorry i thought taiwan independent countr... -6.938894e-18   \n",
       "5  rt we must let happen we must ready we must de...  2.000000e-01   \n",
       "\n",
       "   subjectivity     score  score_map  \n",
       "0      0.190625  negative          0  \n",
       "1      0.100000  negative          0  \n",
       "3      0.350000  positive          1  \n",
       "4      0.556250  negative          0  \n",
       "5      0.500000  positive          1  "
      ]
     },
     "execution_count": 135,
     "metadata": {},
     "output_type": "execute_result"
    }
   ],
   "source": [
    "#Sentiment Analysis\n",
    "cleanedTweet.head()"
   ]
  },
  {
   "cell_type": "code",
   "execution_count": 136,
   "id": "f9b4f1ea",
   "metadata": {},
   "outputs": [
    {
     "name": "stdout",
     "output_type": "stream",
     "text": [
      "(13015, 5)\n"
     ]
    },
    {
     "data": {
      "text/plain": [
       "(13015, 5)"
      ]
     },
     "execution_count": 136,
     "metadata": {},
     "output_type": "execute_result"
    }
   ],
   "source": [
    "# sentiment analysis is already provided by the TextBlob library in extract_dataframe.py\n",
    "\n",
    "# Remove rows from cleanTweet where  polarity   =0  (i.e where  score  = Neutral) and reset the frame index.\n",
    "print(cleanedTweet.shape)\n",
    "cleanedTweet = cleanedTweet[cleanedTweet['score'] != 'neutral']\n",
    "cleanedTweet.shape"
   ]
  },
  {
   "cell_type": "code",
   "execution_count": 137,
   "id": "0dfbd781",
   "metadata": {},
   "outputs": [
    {
     "data": {
      "text/html": [
       "<div>\n",
       "<style scoped>\n",
       "    .dataframe tbody tr th:only-of-type {\n",
       "        vertical-align: middle;\n",
       "    }\n",
       "\n",
       "    .dataframe tbody tr th {\n",
       "        vertical-align: top;\n",
       "    }\n",
       "\n",
       "    .dataframe thead th {\n",
       "        text-align: right;\n",
       "    }\n",
       "</style>\n",
       "<table border=\"1\" class=\"dataframe\">\n",
       "  <thead>\n",
       "    <tr style=\"text-align: right;\">\n",
       "      <th></th>\n",
       "      <th>clean_text</th>\n",
       "      <th>polarity</th>\n",
       "      <th>subjectivity</th>\n",
       "      <th>score</th>\n",
       "      <th>score_map</th>\n",
       "      <th>scoremap</th>\n",
       "    </tr>\n",
       "  </thead>\n",
       "  <tbody>\n",
       "    <tr>\n",
       "      <th>0</th>\n",
       "      <td>rt ameztoy extra random image i lets focus one...</td>\n",
       "      <td>-1.250000e-01</td>\n",
       "      <td>0.190625</td>\n",
       "      <td>negative</td>\n",
       "      <td>0.0</td>\n",
       "      <td>0.0</td>\n",
       "    </tr>\n",
       "    <tr>\n",
       "      <th>1</th>\n",
       "      <td>rt info china media explains military reasons ...</td>\n",
       "      <td>-1.000000e-01</td>\n",
       "      <td>0.100000</td>\n",
       "      <td>negative</td>\n",
       "      <td>0.0</td>\n",
       "      <td>0.0</td>\n",
       "    </tr>\n",
       "    <tr>\n",
       "      <th>3</th>\n",
       "      <td>putin xijinping i told friend taiwan vassal st...</td>\n",
       "      <td>1.000000e-01</td>\n",
       "      <td>0.350000</td>\n",
       "      <td>positive</td>\n",
       "      <td>1.0</td>\n",
       "      <td>0.0</td>\n",
       "    </tr>\n",
       "    <tr>\n",
       "      <th>4</th>\n",
       "      <td>rt i sorry i thought taiwan independent countr...</td>\n",
       "      <td>-6.938894e-18</td>\n",
       "      <td>0.556250</td>\n",
       "      <td>negative</td>\n",
       "      <td>0.0</td>\n",
       "      <td>1.0</td>\n",
       "    </tr>\n",
       "    <tr>\n",
       "      <th>5</th>\n",
       "      <td>rt we must let happen we must ready we must de...</td>\n",
       "      <td>2.000000e-01</td>\n",
       "      <td>0.500000</td>\n",
       "      <td>positive</td>\n",
       "      <td>1.0</td>\n",
       "      <td>1.0</td>\n",
       "    </tr>\n",
       "  </tbody>\n",
       "</table>\n",
       "</div>"
      ],
      "text/plain": [
       "                                          clean_text      polarity  \\\n",
       "0  rt ameztoy extra random image i lets focus one... -1.250000e-01   \n",
       "1  rt info china media explains military reasons ... -1.000000e-01   \n",
       "3  putin xijinping i told friend taiwan vassal st...  1.000000e-01   \n",
       "4  rt i sorry i thought taiwan independent countr... -6.938894e-18   \n",
       "5  rt we must let happen we must ready we must de...  2.000000e-01   \n",
       "\n",
       "   subjectivity     score  score_map  scoremap  \n",
       "0      0.190625  negative        0.0       0.0  \n",
       "1      0.100000  negative        0.0       0.0  \n",
       "3      0.350000  positive        1.0       0.0  \n",
       "4      0.556250  negative        0.0       1.0  \n",
       "5      0.500000  positive        1.0       1.0  "
      ]
     },
     "execution_count": 137,
     "metadata": {},
     "output_type": "execute_result"
    }
   ],
   "source": [
    "# Construct a column  scoremap  Use the mapping {'positive':1, 'negative':0} on the  score  column\n",
    "scoremaps = pd.Series([int(1) if row_val == 'positive' else int(0) for row_val in cleanedTweet['score']])\n",
    "cleanedTweet = pd.concat([cleanedTweet, scoremaps.rename(\"scoremap\")], axis=1)\n",
    "cleanedTweet.head()"
   ]
  },
  {
   "cell_type": "code",
   "execution_count": null,
   "id": "b8da97c4",
   "metadata": {},
   "outputs": [],
   "source": []
  }
 ],
 "metadata": {
  "kernelspec": {
   "display_name": "Python 3 (ipykernel)",
   "language": "python",
   "name": "python3"
  },
  "language_info": {
   "codemirror_mode": {
    "name": "ipython",
    "version": 3
   },
   "file_extension": ".py",
   "mimetype": "text/x-python",
   "name": "python",
   "nbconvert_exporter": "python",
   "pygments_lexer": "ipython3",
   "version": "3.9.12"
  }
 },
 "nbformat": 4,
 "nbformat_minor": 5
}
